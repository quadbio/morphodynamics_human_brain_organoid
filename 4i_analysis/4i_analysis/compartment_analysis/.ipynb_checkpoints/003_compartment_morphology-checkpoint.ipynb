{
 "cells": [
  {
   "cell_type": "code",
   "execution_count": null,
   "id": "55e9d00a-e0df-487e-926c-074738981446",
   "metadata": {},
   "outputs": [],
   "source": [
    "import argparse\n",
    "import os\n",
    "import sys\n",
    "from pathlib import Path\n",
    "\n",
    "import numpy as np\n",
    "import pandas as pd\n",
    "import skimage\n",
    "import yaml\n",
    "from compartmentalizer.create_compartment import run_morpho_analysis\n",
    "from matplotlib import pyplot as plt\n",
    "from phenoscapes.cli import process_sample, read_config\n",
    "from phenoscapes.feature_extraction import extract_features\n",
    "from phenoscapes.sc import convert_to_h5ad, plot_summary\n",
    "from phenoscapes.segmentation import generate_label_overlay, run_cellpose\n",
    "from phenoscapes.utils import get_metadata\n",
    "from skimage import io\n",
    "from skimage.measure import regionprops\n",
    "from tqdm import tqdm"
   ]
  },
  {
   "cell_type": "code",
   "execution_count": null,
   "id": "b8cfffac-6ad4-4990-a8ad-5bfb409a5301",
   "metadata": {},
   "outputs": [],
   "source": [
    "os.chdir(\"/cluster/project/treutlein/DATA/imaging/4i_Data/Brain_ECM_4i_2_v2/\")\n",
    "dir_output = os.getcwd()\n",
    "dir_bg_subtracted = Path(dir_output, \"bg_subtracted\")\n",
    "config = read_config(f\"{dir_output}/config.yaml\")\n",
    "\n",
    "df_stains = pd.read_csv(\"stain_metadata.csv\")"
   ]
  },
  {
   "cell_type": "code",
   "execution_count": null,
   "id": "a75a2a1d-dd0d-47be-9437-2d1901b2da80",
   "metadata": {},
   "outputs": [],
   "source": [
    "samples = [  # Day 7\n",
    "    \"R066_0\",\n",
    "    \"R062_0\",\n",
    "    \"R073_0\",\n",
    "    \"R072_0\",\n",
    "    # Day 15\n",
    "    #'R021_0',\n",
    "    \"R026_0\",\n",
    "    \"R022_0\",\n",
    "    \"R024_0\",\n",
    "    \"R049_0\",\n",
    "    \"R055_0\",\n",
    "    \"R044_0\",\n",
    "    \"R057_0\",\n",
    "    # Day 21\n",
    "    \"R076_1\",\n",
    "    \"R087_0\",\n",
    "    \"R082_0\",\n",
    "    \"R108_1\",\n",
    "    \"R112_1\",\n",
    "    \"R113_1\",\n",
    "    \"R115_0\",\n",
    "]"
   ]
  },
  {
   "cell_type": "code",
   "execution_count": null,
   "id": "5c603674-c0b1-418c-94ee-855427078665",
   "metadata": {},
   "outputs": [],
   "source": [
    "# merge nuclei and cytoplasm into cell mask\n",
    "dir_segmented = Path(dir_output, \"segmented_cell_nuclei\")\n",
    "dir_segmented_cyto = Path(dir_output, \"segmented_cytoplasma\")\n",
    "dir_segmented_cell = Path(dir_output, \"segmented_cell\")\n",
    "dir_segmented_cell.mkdir(parents=True, exist_ok=True)\n",
    "\n",
    "for sample in tqdm(samples):\n",
    "    mask = io.imread(Path(dir_segmented, sample + \".tif\")) + io.imread(\n",
    "        Path(dir_segmented_cyto, sample + \".tif\")\n",
    "    )\n",
    "    io.imsave(Path(dir_segmented_cell, sample + \".tif\"), mask.astype(np.uint16))"
   ]
  },
  {
   "cell_type": "code",
   "execution_count": null,
   "id": "9b9dfe26-be64-42f8-8301-bbd0769eb5d4",
   "metadata": {},
   "outputs": [],
   "source": [
    "from joblib import Parallel, delayed\n",
    "\n",
    "run = Parallel(n_jobs=2, backend=\"multiprocessing\", verbose=20)(\n",
    "    delayed(run_morpho_analysis)(sample, config) for sample in reversed(samples)\n",
    ")"
   ]
  }
 ],
 "metadata": {
  "kernelspec": {
   "display_name": "Python (phenoscapes main)",
   "language": "python",
   "name": "myenv"
  },
  "language_info": {
   "codemirror_mode": {
    "name": "ipython",
    "version": 3
   },
   "file_extension": ".py",
   "mimetype": "text/x-python",
   "name": "python",
   "nbconvert_exporter": "python",
   "pygments_lexer": "ipython3",
   "version": "3.10.13"
  }
 },
 "nbformat": 4,
 "nbformat_minor": 5
}
