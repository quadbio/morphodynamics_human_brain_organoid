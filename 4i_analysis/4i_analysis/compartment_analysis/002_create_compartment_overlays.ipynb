{
 "cells": [
  {
   "cell_type": "code",
   "execution_count": null,
   "id": "55e9d00a-e0df-487e-926c-074738981446",
   "metadata": {},
   "outputs": [],
   "source": [
    "import argparse\n",
    "import os\n",
    "import random\n",
    "import sys\n",
    "from pathlib import Path\n",
    "from random import shuffle\n",
    "\n",
    "import matplotlib\n",
    "import matplotlib.colors as mcolors\n",
    "import matplotlib.pyplot as plt\n",
    "import numpy as np\n",
    "import pandas as pd\n",
    "import skimage\n",
    "import yaml\n",
    "from cellpose import models\n",
    "from matplotlib import pyplot as plt\n",
    "from phenoscapes.cli import load_default_config, process_sample\n",
    "from phenoscapes.feature_extraction import extract_features\n",
    "from phenoscapes.sc import convert_to_h5ad, plot_summary\n",
    "from phenoscapes.segmentation import generate_label_overlay, run_cellpose\n",
    "from phenoscapes.utils import get_metadata, scale_image\n",
    "from skimage import io\n",
    "from skimage.color import label2rgb\n",
    "from skimage.exposure import rescale_intensity\n",
    "from skimage.measure import regionprops\n",
    "from tqdm import tqdm"
   ]
  },
  {
   "cell_type": "code",
   "execution_count": null,
   "id": "b8cfffac-6ad4-4990-a8ad-5bfb409a5301",
   "metadata": {},
   "outputs": [],
   "source": [
    "os.chdir(\"/Brain_ECM_4i_2_v2/\")\n",
    "dir_output = os.getcwd()\n",
    "df_stains = pd.read_csv(\"stain_metadata.csv\")\n",
    "dir_bg_subtracted = Path(dir_output, \"bg_subtracted\")"
   ]
  },
  {
   "cell_type": "code",
   "execution_count": null,
   "id": "a75a2a1d-dd0d-47be-9437-2d1901b2da80",
   "metadata": {},
   "outputs": [],
   "source": [
    "samples = [\n",
    "    \"R066_0\",\n",
    "    \"R062_0\",\n",
    "    \"R073_0\",\n",
    "    \"R072_0\",\n",
    "    \"R026_0\",\n",
    "    \"R022_0\",\n",
    "    \"R024_0\",\n",
    "    \"R049_0\",\n",
    "    \"R055_0\",\n",
    "    \"R044_0\",\n",
    "    \"R057_0\",\n",
    "    \"R076_1\",\n",
    "    \"R087_0\",\n",
    "    \"R082_0\",\n",
    "    \"R108_1\",\n",
    "    \"R112_1\",\n",
    "    \"R113_1\",\n",
    "    \"R115_0\",\n",
    "]"
   ]
  },
  {
   "cell_type": "code",
   "execution_count": null,
   "id": "5c603674-c0b1-418c-94ee-855427078665",
   "metadata": {},
   "outputs": [],
   "source": [
    "dir_images = dir_bg_subtracted\n",
    "for sample in samples:\n",
    "    # Create and shuffle color map and use to color compartements\n",
    "    random.seed(10)\n",
    "    dir_segmented_cytoplasma = Path(dir_output, \"segmented_cytoplasma\")\n",
    "    dir_segmented_ec_niche = Path(dir_output, \"segmented_ecm_niche\")\n",
    "    dir_segmented_nuclei = Path(dir_output, \"segmented_cell_nuclei\")\n",
    "    dirs_segmented = [\n",
    "        dir_segmented_cytoplasma,\n",
    "        dir_segmented_ec_niche,\n",
    "        dir_segmented_nuclei,\n",
    "    ]\n",
    "    img_label = io.imread(Path(dir_segmented_cytoplasma, sample + \".tif\"))\n",
    "    out_image = np.zeros(img_label.shape + (3,))\n",
    "    mycmap = mcolors.LinearSegmentedColormap.from_list(\n",
    "        \"custom\", [\"white\", \"#525252\"], N=20, gamma=1\n",
    "    )\n",
    "    greys = [\n",
    "        matplotlib.colors.to_rgb(mcolors.rgb2hex(mycmap(i))) for i in range(mycmap.N)\n",
    "    ]\n",
    "    shuffle(greys)\n",
    "\n",
    "    for dir_segmented, i in zip(dirs_segmented, range(len(dirs_segmented))):\n",
    "        img_label = io.imread(Path(dir_segmented, sample + \".tif\"))\n",
    "\n",
    "        img_overlay = label2rgb(img_label, bg_label=0, colors=greys)\n",
    "        out_image[:, :, i] = np.mean(img_overlay, axis=-1)\n",
    "    out_image = (out_image * 255).astype(\"uint8\")\n",
    "    io.imsave(\n",
    "        Path(f\"/compartment_overlays/{sample}.png\"),\n",
    "        out_image,\n",
    "        check_contrast=False,\n",
    "    )"
   ]
  }
 ],
 "metadata": {
  "kernelspec": {
   "display_name": "Python (phenoscapes main)",
   "language": "python",
   "name": "myenv"
  },
  "language_info": {
   "codemirror_mode": {
    "name": "ipython",
    "version": 3
   },
   "file_extension": ".py",
   "mimetype": "text/x-python",
   "name": "python",
   "nbconvert_exporter": "python",
   "pygments_lexer": "ipython3",
   "version": "3.10.13"
  }
 },
 "nbformat": 4,
 "nbformat_minor": 5
}
