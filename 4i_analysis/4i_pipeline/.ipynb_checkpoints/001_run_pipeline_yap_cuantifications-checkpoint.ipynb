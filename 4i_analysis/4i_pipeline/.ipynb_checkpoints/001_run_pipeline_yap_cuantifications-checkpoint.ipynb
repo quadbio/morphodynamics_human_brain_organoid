{
 "cells": [
  {
   "cell_type": "code",
   "execution_count": null,
   "id": "8a86d6b4-42dd-4ad3-9b55-186b63ade856",
   "metadata": {},
   "outputs": [],
   "source": [
    "# import easy slurm\n",
    "import datetime\n",
    "import os\n",
    "import shutil\n",
    "import time\n",
    "from pathlib import Path\n",
    "from subprocess import check_output\n",
    "\n",
    "from simple_slurm import Slurm"
   ]
  },
  {
   "cell_type": "code",
   "execution_count": null,
   "id": "e0f3ff9a-48f8-4259-8567-bacc659e3d82",
   "metadata": {},
   "outputs": [],
   "source": [
    "segment_channel = 0\n",
    "segment_cycle = 0\n",
    "pannel = \"4i_ecm_brain_organoid.csv\"\n",
    "input_path = (\n",
    "    \"/cluster/project/treutlein/DATA/imaging/4i_Data/Brain_ECM_4i/Brain_ECM_4i_dapi/\"\n",
    ")"
   ]
  },
  {
   "cell_type": "code",
   "execution_count": null,
   "id": "8d2e3f69-7321-4c7a-8deb-a49441cdd134",
   "metadata": {},
   "outputs": [],
   "source": [
    "# Run prepare_pipeline\n",
    "slurm = Slurm(\n",
    "    cpus_per_task=4,\n",
    "    mem_per_cpu=5000,\n",
    "    job_name=f\"prepare_4i\",\n",
    "    output=f\"logs/job_%j.out\",\n",
    "    account=\"es_treutlein\",\n",
    "    time=datetime.timedelta(days=0, hours=4, minutes=0, seconds=0),\n",
    ")\n",
    "\n",
    "\n",
    "# slurm.add_cmd(\"source /cluster/project/treutlein/USERS/gutgi/miniconda3/etc/profile.d/conda.sh\")\n",
    "slurm.add_cmd(\"source activate phenoscapes_main\")\n",
    "job_name_prepare = slurm.sbatch(\n",
    "    f\"python pipeline/prepare_pipeline.py --input_path {input_path}\"\n",
    "    + f\" --segment_channel {segment_channel}\"\n",
    "    + f\" --segment_cycle {segment_cycle}\"\n",
    "    + f\" --pannel {pannel}\",\n",
    "    shell=\"/bin/bash\",\n",
    ")\n",
    "\n",
    "# Extract job ID\n",
    "\n",
    "job_id_prepare = job_name_prepare\n",
    "\n",
    "# Wait for the first job to complete\n",
    "job_status = \"PENDING\"\n",
    "while \"COMPLETED\" not in job_status:\n",
    "    try:\n",
    "\n",
    "        job_status = (\n",
    "            check_output(\n",
    "                f\"sacct -j {job_id_prepare} --format=State --noheader\", shell=True\n",
    "            )\n",
    "            .decode()\n",
    "            .strip()\n",
    "        )\n",
    "        print(job_status)\n",
    "    except Exception as e:\n",
    "        print(f\"Error checking job status: {e}\")\n",
    "    time.sleep(60)  # Wait for 1 minute before checking again\n",
    "\n",
    "if \"COMPLETED\" in job_status:\n",
    "    # For len dirs in stitched dir run pipeline as a job array\n",
    "    dir_stitched = Path(input_path, \"bg_subtracted\")\n",
    "    well_id = os.listdir(dir_stitched)\n",
    "    # Run single cell segmentation --> Job array\n",
    "    slurm = Slurm(\n",
    "        array=range(len(well_id)),\n",
    "        cpus_per_task=2,\n",
    "        mem_per_cpu=12000,\n",
    "        dependency=dict(afterok=job_name_prepare),\n",
    "        job_name=\"Phenoscapes\",\n",
    "        output=f\"logs/job_%j.out\",\n",
    "        error=f\"error/job_%j.out\",\n",
    "        account=\"es_treutlein\",\n",
    "        time=datetime.timedelta(days=0, hours=12, minutes=0, seconds=0),\n",
    "    )\n",
    "\n",
    "    slurm.add_cmd(\"source activate phenoscapes_main\")\n",
    "    job_name_phenoscapes = slurm.sbatch(\n",
    "        f\"python pipeline/run_phenoscapes.py --input_path {input_path} --array_num {Slurm.SLURM_ARRAY_TASK_ID}\",\n",
    "        shell=\"/bin/bash\",\n",
    "    )"
   ]
  },
  {
   "cell_type": "code",
   "execution_count": null,
   "id": "489b43af-12f0-4064-a45a-0315baa05c01",
   "metadata": {},
   "outputs": [],
   "source": []
  }
 ],
 "metadata": {
  "kernelspec": {
   "display_name": "Python (light_insight)",
   "language": "python",
   "name": "light_insight"
  },
  "language_info": {
   "codemirror_mode": {
    "name": "ipython",
    "version": 3
   },
   "file_extension": ".py",
   "mimetype": "text/x-python",
   "name": "python",
   "nbconvert_exporter": "python",
   "pygments_lexer": "ipython3",
   "version": "3.9.19"
  }
 },
 "nbformat": 4,
 "nbformat_minor": 5
}
