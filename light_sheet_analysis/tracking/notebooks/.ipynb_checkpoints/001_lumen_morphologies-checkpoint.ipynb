{
 "cells": [
  {
   "cell_type": "code",
   "execution_count": 1,
   "id": "4677e9bd-3b65-489c-844f-2f9504a822e7",
   "metadata": {},
   "outputs": [],
   "source": [
    "import glob\n",
    "import pickle\n",
    "from pathlib import Path\n",
    "\n",
    "import matplotlib\n",
    "import matplotlib.pyplot as plt\n",
    "import networkx as nx\n",
    "import numpy as np\n",
    "import pandas as pd\n",
    "import pymeshfix\n",
    "import skimage\n",
    "import zarr\n",
    "from joblib import Parallel, delayed\n",
    "from matplotlib.colors import LightSource\n",
    "from skimage.measure import marching_cubes\n",
    "from skimage.transform import rescale\n",
    "from tqdm import tqdm\n",
    "from trimesh import Trimesh\n",
    "from trimesh.smoothing import filter_taubin\n",
    "\n",
    "matplotlib.rcParams[\"pdf.fonttype\"] = 42\n",
    "matplotlib.rcParams[\"ps.fonttype\"] = 42\n",
    "import matplotlib\n",
    "import seaborn as sns"
   ]
  },
  {
   "cell_type": "code",
   "execution_count": 2,
   "id": "df63c5bf-078d-4930-b845-f9964cef9796",
   "metadata": {},
   "outputs": [],
   "source": [
    "def concatenate_overlapping_arrays(arrays):\n",
    "    def overlap(arr1, arr2):\n",
    "        return np.any(np.in1d(arr1, arr2))\n",
    "\n",
    "    groups = []\n",
    "\n",
    "    for arr in arrays:\n",
    "        merged = False\n",
    "        for group in groups:\n",
    "            if any(overlap(arr, g) for g in group):\n",
    "                group.append(arr)\n",
    "                merged = True\n",
    "                break\n",
    "        if not merged:\n",
    "            groups.append([arr])\n",
    "\n",
    "    # Concatenate arrays within each group\n",
    "    result = [np.concatenate(group) for group in groups]\n",
    "\n",
    "    # Remove duplicates within each result array\n",
    "    result = [np.unique(r) for r in result]\n",
    "\n",
    "    return result"
   ]
  },
  {
   "cell_type": "code",
   "execution_count": 3,
   "id": "e6dcf37d-7118-47d7-8071-53bbe2ee5cf9",
   "metadata": {},
   "outputs": [],
   "source": [
    "out_path = \"/cluster/project/treutlein/DATA/imaging/viventis/Morphodynamics_of_human_early_brain_organoid_development/tracking/lumen_tracking/\""
   ]
  },
  {
   "cell_type": "code",
   "execution_count": 4,
   "id": "1d8d1523-70b3-476b-a4af-b982b74ade92",
   "metadata": {},
   "outputs": [
    {
     "name": "stderr",
     "output_type": "stream",
     "text": [
      "100%|██████████| 16/16 [00:13<00:00,  1.16it/s]\n"
     ]
    }
   ],
   "source": [
    "smootheness = 5\n",
    "label = f\"lumen_masks_smooth_{smootheness}_processed\"\n",
    "channel = \"GFP\"\n",
    "matrigel = [1, 2, 3, 4]\n",
    "no_matrix = [5, 6, 7, 8, 13, 14, 15, 16]\n",
    "agar = [9, 10, 11, 12]\n",
    "\n",
    "positions = np.arange(1, 17)\n",
    "all_measurements = pd.DataFrame()\n",
    "for position in tqdm(positions):\n",
    "    try:\n",
    "        # read all csv from one tp --> concat to one df\n",
    "        morpho_path = (\n",
    "            f\"{out_path}/morphometrics/Position_{position}_Settings_1_Processed/\"\n",
    "        )\n",
    "\n",
    "        # read graph --> extract all fusion events\n",
    "        track_path = f\"{out_path}/tracks/Position_{position}_Settings_1_Processed/\"\n",
    "        track_graph = pickle.load(\n",
    "            open(track_path + f\"{channel}_{label}_track_motile_graph.pickle\", \"rb\")\n",
    "        )\n",
    "        nx_graph = pickle.load(\n",
    "            open(track_path + f\"{channel}_{label}_track.pickle\", \"rb\")\n",
    "        )\n",
    "        adjacency_network = nx.to_scipy_sparse_array(nx_graph)\n",
    "        # Get all in edges for just fused lumen\n",
    "        in_nodes = np.unique(\n",
    "            list(\n",
    "                nx_graph.in_edges(\n",
    "                    np.array(nx_graph.nodes)[adjacency_network.sum(0) == 2]\n",
    "                )\n",
    "            )\n",
    "        )\n",
    "        # Get just fused lumen\n",
    "        post_fusion_nodes = np.array(nx_graph.nodes)[adjacency_network.sum(0) == 2]\n",
    "        # Only keep nodes which are about to fuse\n",
    "        fusion_nodes = in_nodes[~np.isin(in_nodes, post_fusion_nodes)] + 1\n",
    "\n",
    "        csv_names = glob.glob(morpho_path + \"*.csv\")\n",
    "        measurements = pd.DataFrame()\n",
    "        for csv_table in csv_names:\n",
    "            path = Path(csv_table)\n",
    "            one_m = pd.read_csv(csv_table)\n",
    "            one_m[\"time_point\"] = int(path.name.split(\"_\")[1].split(\".\")[0])\n",
    "            measurements = pd.concat([measurements, one_m])\n",
    "\n",
    "        measurements[\"will_fuse\"] = measurements[\"label\"].isin(fusion_nodes).astype(int)\n",
    "        measurements[\"position\"] = position\n",
    "\n",
    "        if position in matrigel:\n",
    "            measurements[\"Condition\"] = \"Matrigel\"\n",
    "        if position in no_matrix:\n",
    "            measurements[\"Condition\"] = \"No Matrix\"\n",
    "        if position in agar:\n",
    "            measurements[\"Condition\"] = \"Agarose\"\n",
    "\n",
    "        all_measurements = pd.concat([all_measurements, measurements])\n",
    "    except:\n",
    "        print(f\"position {position} did not run\")\n",
    "\n",
    "all_measurements[\"axis_ratio\"] = (\n",
    "    all_measurements[\"axis_major_length\"] / all_measurements[\"axis_minor_length\"]\n",
    ")\n",
    "imp_list = list(all_measurements.iloc[:, 1:20].columns) + [\n",
    "    \"axis_minor_length\",\n",
    "    \"axis_major_length\",\n",
    "    \"axis_ratio\",\n",
    "]"
   ]
  },
  {
   "cell_type": "code",
   "execution_count": 5,
   "id": "9ba65ff1-5131-45cd-9f22-13acc80d0979",
   "metadata": {},
   "outputs": [],
   "source": [
    "level = 4"
   ]
  },
  {
   "cell_type": "code",
   "execution_count": 6,
   "id": "462583e0-5a5b-4e12-9743-ab13d2e1f287",
   "metadata": {},
   "outputs": [
    {
     "name": "stdout",
     "output_type": "stream",
     "text": [
      "1\n"
     ]
    },
    {
     "name": "stderr",
     "output_type": "stream",
     "text": [
      "100%|██████████| 125/125 [00:32<00:00,  3.89it/s]\n"
     ]
    },
    {
     "name": "stdout",
     "output_type": "stream",
     "text": [
      "2\n"
     ]
    },
    {
     "name": "stderr",
     "output_type": "stream",
     "text": [
      " 27%|██▋       | 34/125 [00:06<00:17,  5.24it/s]\n",
      "\n",
      "KeyboardInterrupt\n",
      "\n"
     ]
    }
   ],
   "source": [
    "# check if all lumen have been quantified\n",
    "for position in np.unique(all_measurements[\"position\"]):\n",
    "    print(position)\n",
    "    all_measurements_pos = all_measurements[all_measurements[\"position\"] == position]\n",
    "    for t in tqdm(range(125)):\n",
    "        detection_name = \"lumen_masks_smooth_5_processed_detection\"\n",
    "        zarr_path = f\"/cluster/project/treutlein/DATA/imaging/viventis/Morphodynamics_of_human_early_brain_organoid_development/tracking/lumen_tracking/Position_{str(position)}_Settings_1_Processed_registered.zarr\"\n",
    "        zarr_array = zarr.open(zarr_path, mode=\"r\")\n",
    "        input_movie = zarr_array[channel]\n",
    "        lumen_mask = input_movie[t][\"labels\"][detection_name][level][:]\n",
    "        label_mask = np.unique(lumen_mask[lumen_mask != 0])\n",
    "        labels = np.array(\n",
    "            all_measurements_pos[all_measurements_pos[\"time_point\"] == t][\"label\"]\n",
    "        )\n",
    "        if (np.isin(label_mask, labels)).all() == False:\n",
    "            print(t)\n",
    "            print(labels)"
   ]
  },
  {
   "cell_type": "code",
   "execution_count": null,
   "id": "2a4af855-e2f6-4066-ba88-8adff191edc2",
   "metadata": {},
   "outputs": [],
   "source": [
    "for position in np.unique(all_measurements[\"position\"]):\n",
    "    for t in range(125):\n",
    "        detection_name = \"lumen_masks_smooth_5_processed_detection\"\n",
    "        zarr_path = f\"/cluster/project/treutlein/DATA/imaging/viventis/Morphodynamics_of_human_early_brain_organoid_development/tracking/lumen_tracking/Position_{str(position)}_Settings_1_Processed_registered.zarr\"\n",
    "        zarr_array = zarr.open(zarr_path, mode=\"r\")\n",
    "        input_movie = zarr_array[channel]\n",
    "        input_shape = input_movie[\"0\"][\"labels\"][detection_name][\"0\"].shape\n",
    "        lumen_mask = input_movie[t][\"labels\"][detection_name][level][:]"
   ]
  },
  {
   "cell_type": "code",
   "execution_count": 6,
   "id": "7eef3bb1-a602-4557-8be0-cd0c4aebc3ff",
   "metadata": {},
   "outputs": [],
   "source": [
    "import plotly.graph_objects as go"
   ]
  },
  {
   "cell_type": "code",
   "execution_count": 7,
   "id": "b0738975-ce48-4c93-8932-0b738961afb4",
   "metadata": {},
   "outputs": [],
   "source": [
    "all_measurements[\"Day\"] = (all_measurements[\"time_point\"] / 24) + 4"
   ]
  },
  {
   "cell_type": "code",
   "execution_count": 8,
   "id": "c773707e-3b17-424c-857e-3b602c6193d2",
   "metadata": {},
   "outputs": [],
   "source": [
    "measurements_col = pd.DataFrame()\n",
    "# Collapse all_measurements to per organoid measurements\n",
    "measurements_col[\"Volume\"] = all_measurements[\"area\"] * 0.347 * 0.347 * 4 * 2 * 4\n",
    "pallette = {\"Matrigel\": \"#17ad97\", \"No Matrix\": \"#4d4d4d\", \"Agarose\": \"#98d9d1\"}\n",
    "measurements_col[\"Day\"] = (all_measurements[\"time_point\"] / 24) + 4\n",
    "measurements_col[\"Condition\"] = all_measurements[\"Condition\"]\n",
    "measurements_col[\"Volume of imaged lumen in $\\mu m^3*10^6$\"] = (\n",
    "    measurements_col[\"Volume\"] / 10**6\n",
    ")\n",
    "measurements_col = measurements_col[\n",
    "    measurements_col[\"Day\"].isin(np.arange(4, 9.5, 0.5))\n",
    "]"
   ]
  },
  {
   "cell_type": "code",
   "execution_count": 9,
   "id": "3cfd177d-9c4d-4359-8901-380a31a415dd",
   "metadata": {},
   "outputs": [],
   "source": [
    "cm = 1 / 2.54  # centimeters in inches"
   ]
  },
  {
   "cell_type": "code",
   "execution_count": 10,
   "id": "e6759a4b-7057-4d4e-9885-d3149db435a3",
   "metadata": {},
   "outputs": [
    {
     "data": {
      "text/plain": [
       "'\\nplt.savefig(\\n    \"extended_figures/agar_lumen_size_distribution_over_time.pdf\",\\n    bbox_inches=\"tight\",\\n)\\n'"
      ]
     },
     "execution_count": 10,
     "metadata": {},
     "output_type": "execute_result"
    },
    {
     "data": {
      "image/png": "[encoded data removed]",
      "text/plain": [
       "<Figure size 400x400 with 1 Axes>"
      ]
     },
     "metadata": {},
     "output_type": "display_data"
    }
   ],
   "source": [
    "import matplotlib\n",
    "import seaborn as sns\n",
    "\n",
    "matplotlib.rcParams[\"pdf.fonttype\"] = 42\n",
    "matplotlib.rcParams[\"ps.fonttype\"] = 42\n",
    "fig, ax = plt.subplots(figsize=(4, 4))\n",
    "sns.despine(left=False, bottom=False, right=True)\n",
    "# sns.set(font_scale=0.3)\n",
    "\n",
    "sns.stripplot(\n",
    "    data=measurements_col,\n",
    "    x=\"Day\",\n",
    "    y=r\"Volume of imaged lumen in $\\mu m^3*10^6$\",\n",
    "    hue=\"Condition\",\n",
    "    dodge=True,\n",
    "    size=4,\n",
    "    palette=pallette,\n",
    ")\n",
    "ax.yaxis.set_tick_params(labelsize=8)\n",
    "ax.xaxis.set_tick_params(labelsize=8)\n",
    "plt.legend(loc=\"upper left\", bbox_to_anchor=(1, 1), markerscale=1.0, fontsize=8)\n",
    "\"\"\"\n",
    "plt.savefig(\n",
    "    \"extended_figures/agar_lumen_size_distribution_over_time.pdf\",\n",
    "    bbox_inches=\"tight\",\n",
    ")\n",
    "\"\"\""
   ]
  },
  {
   "cell_type": "code",
   "execution_count": 12,
   "id": "ef5000a0-c5a5-49e1-9333-abb2f9dde478",
   "metadata": {},
   "outputs": [],
   "source": [
    "measurements_col.to_csv(\"figures_csv/ext_fig_4_g.csv\")"
   ]
  },
  {
   "cell_type": "code",
   "execution_count": 13,
   "id": "04fc7d51-7278-4786-b199-0d570d61748f",
   "metadata": {},
   "outputs": [
    {
     "data": {
      "text/plain": [
       "'\\nplt.savefig(\\n    \"updated_figures_figure_2/mean_major_axis_length_lumen.pdf\", bbox_inches=\"tight\"\\n)\\n'"
      ]
     },
     "execution_count": 13,
     "metadata": {},
     "output_type": "execute_result"
    },
    {
     "data": {
      "image/png": "[encoded data removed]",
      "text/plain": [
       "<Figure size 196.85x196.85 with 1 Axes>"
      ]
     },
     "metadata": {},
     "output_type": "display_data"
    }
   ],
   "source": [
    "measurements_col = pd.DataFrame()\n",
    "# Collapse all_measurements to per organoid measurements\n",
    "all_measurements[\"id_un\"] = (\n",
    "    all_measurements[\"position\"].astype(str)\n",
    "    + \"_\"\n",
    "    + all_measurements[\"time_point\"].astype(str)\n",
    ")\n",
    "measurements_col[\"Condition\"] = all_measurements.groupby([\"id_un\"])[\"Condition\"].agg(\n",
    "    pd.Series.mode\n",
    ")\n",
    "measurements_col[\"Mean major axis length\"] = all_measurements.groupby(\"id_un\")[\n",
    "    \"axis_major_length\"\n",
    "].mean()\n",
    "measurements_col[\"time_point\"] = all_measurements.groupby([\"id_un\"])[\"time_point\"].agg(\n",
    "    pd.Series.mode\n",
    ")\n",
    "measurements_col[\"Mean major axis length\"] = (\n",
    "    measurements_col[\"Mean major axis length\"] * 0.347 * 4\n",
    ")\n",
    "pallette = {\"Matrigel\": \"#17ad97\", \"No Matrix\": \"#4d4d4d\", \"Agarose\": \"#98d9d1\"}\n",
    "measurements_col[\"Day\"] = (measurements_col[\"time_point\"] / 24) + 4\n",
    "\n",
    "import seaborn as sns\n",
    "\n",
    "sns.set_context(\"paper\", rc={\"font.size\": 8, \"axes.titlesize\": 8, \"axes.labelsize\": 8})\n",
    "rc = {\n",
    "    \"figure.figsize\": (10, 5),\n",
    "    \"axes.facecolor\": \"white\",\n",
    "    \"axes.grid\": False,\n",
    "    \"grid.color\": \".8\",\n",
    "    \"font.size\": 5,\n",
    "}\n",
    "plt.rcParams.update(rc)\n",
    "cm = 1 / 2.54  # centimeters in inches\n",
    "\n",
    "fig, ax = plt.subplots(figsize=(5 * cm, 5 * cm))\n",
    "sns.despine(left=True, bottom=True, right=True)\n",
    "sns.lineplot(\n",
    "    x=\"Day\",\n",
    "    y=\"Mean major axis length\",\n",
    "    data=measurements_col,\n",
    "    hue=\"Condition\",\n",
    "    palette=pallette,\n",
    "    ci=\"sd\",\n",
    ")\n",
    "sns.move_legend(ax, \"upper left\", bbox_to_anchor=(1, 1))\n",
    "\"\"\"\n",
    "plt.savefig(\n",
    "    \"updated_figures_figure_2/mean_major_axis_length_lumen.pdf\", bbox_inches=\"tight\"\n",
    ")\n",
    "\"\"\""
   ]
  },
  {
   "cell_type": "code",
   "execution_count": 15,
   "id": "9f038b94-c2fe-47cd-8fc6-cd4e09123646",
   "metadata": {},
   "outputs": [],
   "source": [
    "measurements_col.to_csv(\"figures_csv/ext_fig_4_h.csv\")"
   ]
  },
  {
   "cell_type": "code",
   "execution_count": 16,
   "id": "255d17c0-f10c-402e-94ec-cc6662afc29f",
   "metadata": {},
   "outputs": [],
   "source": [
    "matrigel = [1, 2, 3, 4]\n",
    "no_matrix = [5, 6, 7, 8, 13, 14, 15, 16]\n",
    "agar = [9, 10, 11, 12]"
   ]
  },
  {
   "cell_type": "code",
   "execution_count": 17,
   "id": "c5f9a97b-711a-4e84-8bd4-15ad096be26f",
   "metadata": {},
   "outputs": [],
   "source": [
    "def extract_lumen_epi_volumes(t, position):\n",
    "    detection_name = \"lumen_masks_smooth_5_processed_detection\"\n",
    "    zarr_path = f\"/cluster/project/treutlein/DATA/imaging/viventis/Morphodynamics_of_human_early_brain_organoid_development/tracking/lumen_tracking/Position_{str(position)}_Settings_1_Processed_registered.zarr\"\n",
    "    zarr_array = zarr.open(zarr_path, mode=\"r\")\n",
    "    input_movie = zarr_array[channel]\n",
    "    input_shape = input_movie[\"0\"][\"labels\"][detection_name][\"0\"].shape\n",
    "    lumen_mask = input_movie[t][\"labels\"][detection_name][level][:]\n",
    "    tissue_mask = input_movie[t][\"labels\"][\"tissue_mask\"][level][:]\n",
    "    tissue_mask = (tissue_mask >= 2).astype(int)\n",
    "    tissue_mask[lumen_mask > 0] = 2\n",
    "    one_tp_volumes = pd.DataFrame()\n",
    "    one_tp_volumes[\"position\"] = [position]\n",
    "    one_tp_volumes[\"time_point\"] = t\n",
    "    one_tp_volumes[\"organoid_volume\"] = tissue_mask[tissue_mask > 0].size\n",
    "    one_tp_volumes[\"lumen_volume\"] = tissue_mask[tissue_mask == 2].size\n",
    "    if position in matrigel:\n",
    "        one_tp_volumes[\"Condition\"] = \"Matrigel\"\n",
    "    if position in no_matrix:\n",
    "        one_tp_volumes[\"Condition\"] = \"No Matrix\"\n",
    "    if position in agar:\n",
    "        one_tp_volumes[\"Condition\"] = \"Agarose\"\n",
    "    return one_tp_volumes"
   ]
  },
  {
   "cell_type": "code",
   "execution_count": 18,
   "id": "05b0df86-2559-42ba-b05a-49de00c0b33a",
   "metadata": {},
   "outputs": [
    {
     "name": "stderr",
     "output_type": "stream",
     "text": [
      "  0%|          | 0/16 [00:00<?, ?it/s][Parallel(n_jobs=8)]: Using backend MultiprocessingBackend with 8 concurrent workers.\n",
      "[Parallel(n_jobs=8)]: Done   2 tasks      | elapsed:    3.0s\n",
      "[Parallel(n_jobs=8)]: Done  56 tasks      | elapsed:   11.5s\n",
      "[Parallel(n_jobs=8)]: Done 125 out of 125 | elapsed:   21.1s finished\n",
      "  6%|▋         | 1/16 [00:21<05:16, 21.12s/it][Parallel(n_jobs=8)]: Using backend MultiprocessingBackend with 8 concurrent workers.\n",
      "[Parallel(n_jobs=8)]: Done   2 tasks      | elapsed:    2.3s\n",
      "[Parallel(n_jobs=8)]: Done  56 tasks      | elapsed:   10.7s\n",
      "[Parallel(n_jobs=8)]: Done 125 out of 125 | elapsed:   22.8s finished\n",
      " 12%|█▎        | 2/16 [00:43<05:09, 22.10s/it][Parallel(n_jobs=8)]: Using backend MultiprocessingBackend with 8 concurrent workers.\n",
      "[Parallel(n_jobs=8)]: Done   2 tasks      | elapsed:    1.5s\n",
      "[Parallel(n_jobs=8)]: Done  56 tasks      | elapsed:    9.3s\n",
      "[Parallel(n_jobs=8)]: Done 125 out of 125 | elapsed:   19.6s finished\n",
      " 19%|█▉        | 3/16 [01:03<04:32, 20.97s/it][Parallel(n_jobs=8)]: Using backend MultiprocessingBackend with 8 concurrent workers.\n",
      "[Parallel(n_jobs=8)]: Done   2 tasks      | elapsed:    1.5s\n",
      "[Parallel(n_jobs=8)]: Done  56 tasks      | elapsed:    8.7s\n",
      "[Parallel(n_jobs=8)]: Done 125 out of 125 | elapsed:   17.7s finished\n",
      " 25%|██▌       | 4/16 [01:21<03:56, 19.71s/it][Parallel(n_jobs=8)]: Using backend MultiprocessingBackend with 8 concurrent workers.\n",
      "[Parallel(n_jobs=8)]: Done   2 tasks      | elapsed:    1.8s\n",
      "[Parallel(n_jobs=8)]: Done  56 tasks      | elapsed:    7.3s\n",
      "[Parallel(n_jobs=8)]: Done 125 out of 125 | elapsed:   14.8s finished\n",
      " 31%|███▏      | 5/16 [01:36<03:17, 17.96s/it][Parallel(n_jobs=8)]: Using backend MultiprocessingBackend with 8 concurrent workers.\n",
      "[Parallel(n_jobs=8)]: Done   2 tasks      | elapsed:    1.8s\n",
      "[Parallel(n_jobs=8)]: Done  56 tasks      | elapsed:    7.2s\n",
      "[Parallel(n_jobs=8)]: Done 125 out of 125 | elapsed:   14.8s finished\n",
      " 38%|███▊      | 6/16 [01:51<02:49, 16.90s/it][Parallel(n_jobs=8)]: Using backend MultiprocessingBackend with 8 concurrent workers.\n",
      "[Parallel(n_jobs=8)]: Done   2 tasks      | elapsed:    1.5s\n",
      "[Parallel(n_jobs=8)]: Done  56 tasks      | elapsed:    7.6s\n",
      "[Parallel(n_jobs=8)]: Done 125 out of 125 | elapsed:   15.2s finished\n",
      " 44%|████▍     | 7/16 [02:06<02:27, 16.34s/it][Parallel(n_jobs=8)]: Using backend MultiprocessingBackend with 8 concurrent workers.\n",
      "[Parallel(n_jobs=8)]: Done   2 tasks      | elapsed:    1.3s\n",
      "[Parallel(n_jobs=8)]: Done  56 tasks      | elapsed:    7.0s\n",
      "[Parallel(n_jobs=8)]: Done 125 out of 125 | elapsed:   14.6s finished\n",
      " 50%|█████     | 8/16 [02:20<02:06, 15.79s/it][Parallel(n_jobs=8)]: Using backend MultiprocessingBackend with 8 concurrent workers.\n",
      "[Parallel(n_jobs=8)]: Done   2 tasks      | elapsed:    1.4s\n",
      "[Parallel(n_jobs=8)]: Done  56 tasks      | elapsed:    6.8s\n",
      "[Parallel(n_jobs=8)]: Done 125 out of 125 | elapsed:   15.2s finished\n",
      " 56%|█████▋    | 9/16 [02:36<01:49, 15.61s/it][Parallel(n_jobs=8)]: Using backend MultiprocessingBackend with 8 concurrent workers.\n",
      "[Parallel(n_jobs=8)]: Done   2 tasks      | elapsed:    1.7s\n",
      "[Parallel(n_jobs=8)]: Done  56 tasks      | elapsed:    7.0s\n",
      "[Parallel(n_jobs=8)]: Done 125 out of 125 | elapsed:   14.9s finished\n",
      " 62%|██████▎   | 10/16 [02:50<01:32, 15.39s/it][Parallel(n_jobs=8)]: Using backend MultiprocessingBackend with 8 concurrent workers.\n",
      "[Parallel(n_jobs=8)]: Done   2 tasks      | elapsed:    1.1s\n",
      "[Parallel(n_jobs=8)]: Done  56 tasks      | elapsed:    6.6s\n",
      "[Parallel(n_jobs=8)]: Done 125 out of 125 | elapsed:   14.3s finished\n",
      " 69%|██████▉   | 11/16 [03:05<01:15, 15.07s/it][Parallel(n_jobs=8)]: Using backend MultiprocessingBackend with 8 concurrent workers.\n",
      "[Parallel(n_jobs=8)]: Done   2 tasks      | elapsed:    1.2s\n",
      "[Parallel(n_jobs=8)]: Done  56 tasks      | elapsed:    6.5s\n",
      "[Parallel(n_jobs=8)]: Done 125 out of 125 | elapsed:   14.5s finished\n",
      " 75%|███████▌  | 12/16 [03:19<00:59, 14.90s/it][Parallel(n_jobs=8)]: Using backend MultiprocessingBackend with 8 concurrent workers.\n",
      "[Parallel(n_jobs=8)]: Done   2 tasks      | elapsed:    1.2s\n",
      "[Parallel(n_jobs=8)]: Done  56 tasks      | elapsed:    6.4s\n",
      "[Parallel(n_jobs=8)]: Done 125 out of 125 | elapsed:   14.9s finished\n",
      " 81%|████████▏ | 13/16 [03:34<00:44, 14.91s/it][Parallel(n_jobs=8)]: Using backend MultiprocessingBackend with 8 concurrent workers.\n",
      "[Parallel(n_jobs=8)]: Done   2 tasks      | elapsed:    2.0s\n",
      "[Parallel(n_jobs=8)]: Done  56 tasks      | elapsed:   11.1s\n",
      "[Parallel(n_jobs=8)]: Done 125 out of 125 | elapsed:   21.5s finished\n",
      " 88%|████████▊ | 14/16 [03:56<00:33, 16.90s/it][Parallel(n_jobs=8)]: Using backend MultiprocessingBackend with 8 concurrent workers.\n",
      "[Parallel(n_jobs=8)]: Done   2 tasks      | elapsed:    2.0s\n",
      "[Parallel(n_jobs=8)]: Done  56 tasks      | elapsed:    8.8s\n",
      "[Parallel(n_jobs=8)]: Done 125 out of 125 | elapsed:   18.8s finished\n",
      " 94%|█████████▍| 15/16 [04:15<00:17, 17.48s/it][Parallel(n_jobs=8)]: Using backend MultiprocessingBackend with 8 concurrent workers.\n",
      "[Parallel(n_jobs=8)]: Done   2 tasks      | elapsed:    1.4s\n",
      "[Parallel(n_jobs=8)]: Done  56 tasks      | elapsed:    7.3s\n",
      "[Parallel(n_jobs=8)]: Done 125 out of 125 | elapsed:   15.3s finished\n",
      "100%|██████████| 16/16 [04:30<00:00, 16.90s/it]\n"
     ]
    }
   ],
   "source": [
    "volume_df = pd.DataFrame()\n",
    "level = 1\n",
    "for position in tqdm(range(1, 17)):\n",
    "    list_df = Parallel(n_jobs=8, backend=\"multiprocessing\", verbose=5)(\n",
    "        delayed(extract_lumen_epi_volumes)(t, position) for t in range(125)\n",
    "    )\n",
    "\n",
    "    volume_df = pd.concat([volume_df] + list_df)\n",
    "# Save the df\n",
    "volume_df.index = np.arange(len(volume_df))\n",
    "volume_df[\"Volume Organoid\"] = (\n",
    "    volume_df[\"organoid_volume\"] * 0.347 * 0.347 * 4 * 4 * 2\n",
    ") / 10**6\n",
    "volume_df[\"Volume Lumen\"] = (\n",
    "    volume_df[\"lumen_volume\"] * 0.347 * 0.347 * 4 * 4 * 2\n",
    ") / 10**6\n",
    "volume_df[\"Day\"] = 4 + (volume_df[\"time_point\"] / 24)\n",
    "volume_df[\"Percent Lumen\"] = np.array(volume_df[\"lumen_volume\"]) / np.array(\n",
    "    volume_df[\"organoid_volume\"]\n",
    ")\n",
    "volume_df.to_csv(out_path + \"tissue_volumes.csv\")\n",
    "volume_df = pd.read_csv(out_path + \"tissue_volumes.csv\")\n",
    "volume_df[\"Volume Epithelium\"] = (\n",
    "    volume_df[\"Volume Organoid\"] - volume_df[\"Volume Lumen\"]\n",
    ")"
   ]
  },
  {
   "cell_type": "code",
   "execution_count": 24,
   "id": "0926c27d-5f18-404c-94ea-6096fb5fa5dc",
   "metadata": {},
   "outputs": [
    {
     "data": {
      "text/plain": [
       "'\\nplt.savefig(\\n    \"updated_figures_figure_2/percent_lumen_volume_max_line.pdf\", bbox_inches=\"tight\"\\n)\\n'"
      ]
     },
     "execution_count": 24,
     "metadata": {},
     "output_type": "execute_result"
    },
    {
     "data": {
      "image/png": "[encoded data removed]",
      "text/plain": [
       "<Figure size 196.85x196.85 with 1 Axes>"
      ]
     },
     "metadata": {},
     "output_type": "display_data"
    }
   ],
   "source": [
    "import seaborn as sns\n",
    "\n",
    "sns.set_context(\"paper\", rc={\"font.size\": 8, \"axes.titlesize\": 8, \"axes.labelsize\": 8})\n",
    "rc = {\n",
    "    \"figure.figsize\": (10, 5),\n",
    "    \"axes.facecolor\": \"white\",\n",
    "    \"axes.grid\": False,\n",
    "    \"grid.color\": \".8\",\n",
    "    \"font.size\": 5,\n",
    "}\n",
    "plt.rcParams.update(rc)\n",
    "cm = 1 / 2.54  # centimeters in inches\n",
    "\n",
    "fig, ax = plt.subplots(figsize=(5 * cm, 5 * cm))\n",
    "sns.despine(left=True, bottom=True, right=True)\n",
    "sns.lineplot(\n",
    "    x=\"Day\",\n",
    "    y=\"Percent Lumen\",\n",
    "    data=volume_df,\n",
    "    hue=\"Condition\",\n",
    "    palette=pallette,\n",
    "    ci=\"sd\",\n",
    ")\n",
    "\n",
    "\n",
    "sns.move_legend(ax, \"upper left\", bbox_to_anchor=(1, 1))\n",
    "\"\"\"\n",
    "plt.savefig(\n",
    "    \"updated_figures_figure_2/percent_lumen_volume_max_line.pdf\", bbox_inches=\"tight\"\n",
    ")\n",
    "\"\"\""
   ]
  },
  {
   "cell_type": "code",
   "execution_count": 29,
   "id": "d422b51c-ff03-486b-8d3e-28bea019f7dd",
   "metadata": {},
   "outputs": [],
   "source": [
    "volume_df[[\"position\", \"Day\", \"Condition\", \"Percent Lumen\"]].to_csv(\n",
    "    \"figures_csv/fig_2_i_percent_lumen.csv\"\n",
    ")"
   ]
  },
  {
   "cell_type": "code",
   "execution_count": 20,
   "id": "fc7b5c38-10d0-4f24-9ed1-9b1155feab18",
   "metadata": {},
   "outputs": [
    {
     "data": {
      "text/plain": [
       "'\\nplt.savefig(\"updated_figures_figure_2/lumen_volume.pdf\", bbox_inches=\"tight\")\\n'"
      ]
     },
     "execution_count": 20,
     "metadata": {},
     "output_type": "execute_result"
    },
    {
     "data": {
      "image/png": "[encoded data removed]",
      "text/plain": [
       "<Figure size 196.85x196.85 with 1 Axes>"
      ]
     },
     "metadata": {},
     "output_type": "display_data"
    }
   ],
   "source": [
    "import seaborn as sns\n",
    "\n",
    "sns.set_context(\"paper\", rc={\"font.size\": 8, \"axes.titlesize\": 8, \"axes.labelsize\": 8})\n",
    "rc = {\n",
    "    \"figure.figsize\": (10, 5),\n",
    "    \"axes.facecolor\": \"white\",\n",
    "    \"axes.grid\": False,\n",
    "    \"grid.color\": \".8\",\n",
    "    \"font.size\": 5,\n",
    "}\n",
    "plt.rcParams.update(rc)\n",
    "cm = 1 / 2.54  # centimeters in inches\n",
    "\n",
    "fig, ax = plt.subplots(figsize=(5 * cm, 5 * cm))\n",
    "sns.despine(left=True, bottom=True, right=True)\n",
    "sns.lineplot(\n",
    "    x=\"Day\",\n",
    "    y=\"Volume Lumen\",\n",
    "    data=volume_df,\n",
    "    hue=\"Condition\",\n",
    "    palette=pallette,\n",
    "    ci=\"sd\",\n",
    ")\n",
    "sns.move_legend(ax, \"upper left\", bbox_to_anchor=(1, 1))\n",
    "\"\"\"\n",
    "plt.savefig(\"updated_figures_figure_2/lumen_volume.pdf\", bbox_inches=\"tight\")\n",
    "\"\"\""
   ]
  },
  {
   "cell_type": "code",
   "execution_count": 21,
   "id": "4cccf392-38f1-4fd7-a51d-fde425cd4204",
   "metadata": {},
   "outputs": [
    {
     "data": {
      "text/plain": [
       "'\\nplt.savefig(\"updated_figures_figure_2/organoid_volume.pdf\", bbox_inches=\"tight\")\\n'"
      ]
     },
     "execution_count": 21,
     "metadata": {},
     "output_type": "execute_result"
    },
    {
     "data": {
      "image/png": "[encoded data removed]",
      "text/plain": [
       "<Figure size 196.85x196.85 with 1 Axes>"
      ]
     },
     "metadata": {},
     "output_type": "display_data"
    }
   ],
   "source": [
    "import seaborn as sns\n",
    "\n",
    "sns.set_context(\"paper\", rc={\"font.size\": 8, \"axes.titlesize\": 8, \"axes.labelsize\": 8})\n",
    "rc = {\n",
    "    \"figure.figsize\": (10, 5),\n",
    "    \"axes.facecolor\": \"white\",\n",
    "    \"axes.grid\": False,\n",
    "    \"grid.color\": \".8\",\n",
    "    \"font.size\": 5,\n",
    "}\n",
    "plt.rcParams.update(rc)\n",
    "cm = 1 / 2.54  # centimeters in inches\n",
    "\n",
    "fig, ax = plt.subplots(figsize=(5 * cm, 5 * cm))\n",
    "sns.despine(left=True, bottom=True, right=True)\n",
    "sns.lineplot(\n",
    "    x=\"Day\",\n",
    "    y=\"Volume Organoid\",\n",
    "    data=volume_df,\n",
    "    hue=\"Condition\",\n",
    "    palette=pallette,\n",
    "    ci=\"sd\",\n",
    ")\n",
    "sns.move_legend(ax, \"upper left\", bbox_to_anchor=(1, 1))\n",
    "\"\"\"\n",
    "plt.savefig(\"updated_figures_figure_2/organoid_volume.pdf\", bbox_inches=\"tight\")\n",
    "\"\"\""
   ]
  },
  {
   "cell_type": "code",
   "execution_count": 32,
   "id": "dea38a18-1135-4388-bd34-5b0f56b688a3",
   "metadata": {},
   "outputs": [],
   "source": [
    "volume_df[[\"position\", \"Day\", \"Condition\", \"Volume Organoid\"]].to_csv(\n",
    "    \"figures_csv/ext_fig_4_e_organoid_volume.csv\"\n",
    ")"
   ]
  },
  {
   "cell_type": "code",
   "execution_count": 22,
   "id": "2f8c1f77-9380-477b-ba76-a73550175771",
   "metadata": {},
   "outputs": [
    {
     "data": {
      "text/plain": [
       "'\\nplt.savefig(\"updated_figures_figure_2/lumen_epithelium.pdf\", bbox_inches=\"tight\")\\n'"
      ]
     },
     "execution_count": 22,
     "metadata": {},
     "output_type": "execute_result"
    },
    {
     "data": {
      "image/png": "[encoded data removed]",
      "text/plain": [
       "<Figure size 196.85x196.85 with 1 Axes>"
      ]
     },
     "metadata": {},
     "output_type": "display_data"
    }
   ],
   "source": [
    "import seaborn as sns\n",
    "\n",
    "sns.set_context(\"paper\", rc={\"font.size\": 8, \"axes.titlesize\": 8, \"axes.labelsize\": 8})\n",
    "rc = {\n",
    "    \"figure.figsize\": (10, 5),\n",
    "    \"axes.facecolor\": \"white\",\n",
    "    \"axes.grid\": False,\n",
    "    \"grid.color\": \".8\",\n",
    "    \"font.size\": 5,\n",
    "}\n",
    "plt.rcParams.update(rc)\n",
    "cm = 1 / 2.54  # centimeters in inches\n",
    "\n",
    "fig, ax = plt.subplots(figsize=(5 * cm, 5 * cm))\n",
    "sns.despine(left=True, bottom=True, right=True)\n",
    "sns.lineplot(\n",
    "    x=\"Day\",\n",
    "    y=\"Volume Epithelium\",\n",
    "    data=volume_df,\n",
    "    hue=\"Condition\",\n",
    "    palette=pallette,\n",
    "    ci=\"sd\",\n",
    ")\n",
    "sns.move_legend(ax, \"upper left\", bbox_to_anchor=(1, 1))\n",
    "\"\"\"\n",
    "plt.savefig(\"updated_figures_figure_2/lumen_epithelium.pdf\", bbox_inches=\"tight\")\n",
    "\"\"\""
   ]
  },
  {
   "cell_type": "code",
   "execution_count": 30,
   "id": "893af5a9-9e8a-437c-80e9-2bb61074a2d4",
   "metadata": {},
   "outputs": [],
   "source": [
    "volume_df[[\"position\", \"Day\", \"Condition\", \"Volume Epithelium\"]].to_csv(\n",
    "    \"figures_csv/ext_fig_4_f_epithelium_volume.csv\"\n",
    ")"
   ]
  },
  {
   "cell_type": "code",
   "execution_count": 23,
   "id": "c9739906-708e-4e5b-a762-282bfc2e314a",
   "metadata": {},
   "outputs": [
    {
     "data": {
      "image/png": "[encoded data removed]",
      "text/plain": [
       "<Figure size 800x100 with 1 Axes>"
      ]
     },
     "metadata": {},
     "output_type": "display_data"
    }
   ],
   "source": [
    "all_measurements[\"Mean major axis length\"] = (\n",
    "    all_measurements[\"axis_major_length\"] * 0.347 * 4\n",
    ")\n",
    "all_pos = all_measurements[all_measurements[\"position\"] == position]\n",
    "color_measurement = \"Mean major axis length\"\n",
    "n_bins = 10\n",
    "\n",
    "norm = matplotlib.colors.Normalize(\n",
    "    vmin=all_measurements[color_measurement].min(),\n",
    "    vmax=all_measurements[color_measurement].max(),\n",
    ")\n",
    "\n",
    "\n",
    "cmap_gray_red = matplotlib.colors.LinearSegmentedColormap.from_list(\n",
    "    \"\", [\"#4166ab\", \"#f0e0a1\", \"#bb4f3c\"], N=n_bins\n",
    ")\n",
    "\n",
    "import matplotlib.colors as colors\n",
    "import matplotlib.pyplot as plt\n",
    "\n",
    "fig, ax = plt.subplots(figsize=(8, 1))\n",
    "\n",
    "# Create the colorbar\n",
    "cbar = plt.colorbar(\n",
    "    plt.cm.ScalarMappable(norm=norm, cmap=cmap_gray_red),\n",
    "    cax=ax,\n",
    "    orientation=\"horizontal\",\n",
    "    label=r\"Major axis length ($\\mu m$)\",\n",
    ")\n",
    "\n",
    "# Set the number of ticks to match n_bins\n",
    "\n",
    "plt.tight_layout()\n",
    "\"\"\"\n",
    "plt.savefig(\n",
    "    \"updated_figures_figure_2/major_axis_length.pdf\", format=\"pdf\", bbox_inches=\"tight\"\n",
    ")\n",
    "\"\"\"\n",
    "plt.show()"
   ]
  },
  {
   "cell_type": "code",
   "execution_count": 39,
   "id": "0f96bd68-17c2-4874-b8a2-78b4f386a3d0",
   "metadata": {},
   "outputs": [],
   "source": [
    "all_measurements[\n",
    "    [\"position\", \"Condition\", \"label\", \"time_point\", \"area\", \"axis_major_length\"]\n",
    "].to_csv(\"figures_csv/fig_2_h_volume_major_axis_length.csv\")"
   ]
  },
  {
   "cell_type": "code",
   "execution_count": null,
   "id": "4da20cff-3856-4b74-a3c7-30b4833d0cda",
   "metadata": {},
   "outputs": [],
   "source": [
    "all_measurements[\"volume\"] = (\n",
    "    all_measurements[\"area\"] * 2 * 0.347 * 4 * 0.347 * 4\n",
    ") / 10**6\n",
    "all_pos = all_measurements[all_measurements[\"position\"] == position]\n",
    "color_measurement = \"volume\"\n",
    "n_bins = 10\n",
    "\n",
    "norm = matplotlib.colors.Normalize(\n",
    "    vmin=all_measurements[color_measurement].min(),\n",
    "    vmax=all_measurements[color_measurement].max(),\n",
    ")\n",
    "\n",
    "\n",
    "cmap_gray_red = matplotlib.colors.LinearSegmentedColormap.from_list(\n",
    "    \"\", [\"#00ffea\", \"#f0e0a1\", \"#ffdd00\"], N=n_bins\n",
    ")\n",
    "import matplotlib.colors as colors\n",
    "import matplotlib.pyplot as plt\n",
    "\n",
    "fig, ax = plt.subplots(figsize=(8, 1))\n",
    "\n",
    "# Create the colorbar\n",
    "cbar = plt.colorbar(\n",
    "    plt.cm.ScalarMappable(norm=norm, cmap=cmap_gray_red),\n",
    "    cax=ax,\n",
    "    orientation=\"horizontal\",\n",
    "    label=r\"Lumen volume ($10^6$ $\\mu m^3$)\",\n",
    ")\n",
    "\n",
    "# Set the number of ticks to match n_bins\n",
    "\n",
    "plt.tight_layout()\n",
    "plt.savefig(\n",
    "    \"updated_figures_figure_2/colorbar_volume.pdf\", format=\"pdf\", bbox_inches=\"tight\"\n",
    ")\n",
    "\n",
    "plt.show()"
   ]
  },
  {
   "cell_type": "code",
   "execution_count": null,
   "id": "1230f767-87bb-4807-a351-f045e38f8c9c",
   "metadata": {},
   "outputs": [],
   "source": [
    "t = 100\n",
    "position = 3\n",
    "level = 2\n",
    "time_points = [24, 48, 72, 96]\n",
    "positions = [3, 12, 13]\n",
    "conditions = [\"Matrigel\", \"Agarose\", \"No Matrix\"]\n",
    "for position, condition in zip(positions, conditions):\n",
    "    for t in time_points:\n",
    "        all_measurements[\"Mean major axis length\"] = (\n",
    "            all_measurements[\"axis_major_length\"] * 0.347 * 4\n",
    "        )\n",
    "        all_pos = all_measurements[all_measurements[\"position\"] == position]\n",
    "        color_measurement = \"Mean major axis length\"\n",
    "        n_bins = 10\n",
    "\n",
    "        norm = matplotlib.colors.Normalize(\n",
    "            vmin=all_measurements[color_measurement].min(),\n",
    "            vmax=all_measurements[color_measurement].max(),\n",
    "        )\n",
    "\n",
    "        cmap_gray_red = matplotlib.colors.LinearSegmentedColormap.from_list(\n",
    "            \"\", [\"#4166ab\", \"#f0e0a1\", \"#bb4f3c\"], N=n_bins\n",
    "        )\n",
    "\n",
    "        label = f\"lumen_masks_smooth_5_processed\"\n",
    "        zarr_path = f\"/cluster/project/treutlein/DATA/imaging/viventis/Morphodynamics_of_human_early_brain_organoid_development/tracking/lumen_tracking/Position_{str(position)}_Settings_1_Processed_registered.zarr\"\n",
    "        zarr_array = zarr.open(zarr_path, mode=\"r\")\n",
    "        input_movie = zarr_array[channel]\n",
    "        input_shape = input_movie[\"0\"][\"labels\"][label][\"0\"].shape\n",
    "        detection_name = \"lumen_masks_smooth_5_processed_detection\"\n",
    "\n",
    "        lumen_mask_label = input_movie[t][\"labels\"][detection_name][level][:]\n",
    "        organoid_mask = input_movie[t][\"labels\"][\"tissue_mask\"][level][:] == 2\n",
    "        anniso_factor = 2 / (2 * (2**level) * 0.347)\n",
    "        lumen_mask_label = rescale(\n",
    "            lumen_mask_label,\n",
    "            [anniso_factor, 1, 1],\n",
    "            order=0,\n",
    "            anti_aliasing=False,\n",
    "            preserve_range=True,\n",
    "        ).astype(np.uint16)\n",
    "\n",
    "        organoid_mask = rescale(\n",
    "            organoid_mask,\n",
    "            [anniso_factor, 1, 1],\n",
    "            order=0,\n",
    "            anti_aliasing=False,\n",
    "            preserve_range=True,\n",
    "        ).astype(np.uint16)\n",
    "\n",
    "        # Create surface mask\n",
    "        fig = plt.figure(figsize=(6, 6))\n",
    "        fig.subplots_adjust(top=1, bottom=0, left=0, right=1, wspace=0)\n",
    "        ax = fig.add_subplot(111, projection=\"3d\")\n",
    "        ax.set_box_aspect([1, 1, 1])\n",
    "        max_size = (np.array(lumen_mask_label.shape) * 2 * (level**1) * 0.347).max() + 0\n",
    "        ax.set_xlim3d([0, max_size])\n",
    "        ax.set_ylim3d([0, max_size])\n",
    "        ax.set_zlim3d([0, max_size])\n",
    "        shapes = lumen_mask_label.shape\n",
    "\n",
    "        ax.view_init(15, 15)\n",
    "        ax.tick_params(axis=\"both\", pad=5)\n",
    "        ls = LightSource(azdeg=0, altdeg=-65)\n",
    "        labels_frame = np.unique(lumen_mask_label)[1:]\n",
    "        measurements_labels = all_pos[all_pos[\"label\"].isin(labels_frame)]\n",
    "\n",
    "        for label in tqdm(labels_frame):\n",
    "            measuremnt_lum = measurements_labels[measurements_labels[\"label\"] == label][\n",
    "                color_measurement\n",
    "            ]\n",
    "            vertices, faces, _, _ = marching_cubes(\n",
    "                (lumen_mask_label == label).astype(int), 0, step_size=1\n",
    "            )\n",
    "            vertices_clean, faces_clean = pymeshfix.clean_from_arrays(vertices, faces)\n",
    "            vertices_clean = np.round(vertices_clean * 2 * (level**1) * 0.347).astype(\n",
    "                int\n",
    "            )\n",
    "\n",
    "            cell_mesh = Trimesh(vertices=vertices_clean, faces=faces_clean)\n",
    "            cell_mesh = filter_taubin(cell_mesh, iterations=50)\n",
    "\n",
    "            ax.plot_trisurf(\n",
    "                cell_mesh.vertices[:, 0],\n",
    "                cell_mesh.vertices[:, 1],\n",
    "                triangles=cell_mesh.faces,\n",
    "                Z=cell_mesh.vertices[:, 2],\n",
    "                lightsource=ls,\n",
    "                alpha=1.0,\n",
    "                color=cmap_gray_red(norm(measuremnt_lum.iloc[0])),\n",
    "            )\n",
    "        plt.axis(\"off\")\n",
    "        canvas = plt.gca().figure.canvas\n",
    "        canvas.draw()\n",
    "        data = np.frombuffer(canvas.tostring_rgb(), dtype=np.uint8)\n",
    "        image = data.reshape(canvas.get_width_height()[::-1] + (3,))\n",
    "        plt.close()\n",
    "        # plt.imshow(image[100:450,150:500])\n",
    "        # plt.show()\n",
    "        skimage.io.imsave(\n",
    "            f\"updated_figures_figure_2/3D_colored/3D_lumen_{color_measurement}_{condition}_day_{int((t/24)+4)}.png\",\n",
    "            image[100:450, 150:500],\n",
    "        )"
   ]
  },
  {
   "cell_type": "code",
   "execution_count": null,
   "id": "992a28b1-4dd0-4080-a1d5-6bcc926783b9",
   "metadata": {},
   "outputs": [],
   "source": [
    "t = 100\n",
    "position = 3\n",
    "level = 2\n",
    "time_points = [24, 48, 72, 96]\n",
    "positions = [3, 12, 13]\n",
    "conditions = [\"Matrigel\", \"Agarose\", \"No Matrix\"]\n",
    "for position, condition in zip(positions, conditions):\n",
    "    for t in time_points:\n",
    "        all_measurements[\"volume\"] = (\n",
    "            all_measurements[\"area\"] * 2 * 0.347 * 4 * 0.347 * 4\n",
    "        )\n",
    "        all_pos = all_measurements[all_measurements[\"position\"] == position]\n",
    "        color_measurement = \"volume\"\n",
    "        n_bins = 10\n",
    "\n",
    "        norm = matplotlib.colors.Normalize(\n",
    "            vmin=all_measurements[color_measurement].min(),\n",
    "            vmax=all_measurements[color_measurement].max(),\n",
    "        )\n",
    "\n",
    "        cmap_gray_red = matplotlib.colors.LinearSegmentedColormap.from_list(\n",
    "            \"\", [\"#00ffea\", \"#f0e0a1\", \"#ffdd00\"], N=n_bins\n",
    "        )\n",
    "        label = f\"lumen_masks_smooth_5_processed\"\n",
    "        zarr_path = f\"/cluster/project/treutlein/DATA/imaging/viventis/Morphodynamics_of_human_early_brain_organoid_development/tracking/lumen_tracking/Position_{str(position)}_Settings_1_Processed_registered.zarr\"\n",
    "        zarr_array = zarr.open(zarr_path, mode=\"r\")\n",
    "        input_movie = zarr_array[channel]\n",
    "        input_shape = input_movie[\"0\"][\"labels\"][label][\"0\"].shape\n",
    "        detection_name = \"lumen_masks_smooth_5_processed_detection\"\n",
    "\n",
    "        lumen_mask_label = input_movie[t][\"labels\"][detection_name][level][:]\n",
    "        organoid_mask = input_movie[t][\"labels\"][\"tissue_mask\"][level][:] == 2\n",
    "        anniso_factor = 2 / (2 * (2**level) * 0.347)\n",
    "        lumen_mask_label = rescale(\n",
    "            lumen_mask_label,\n",
    "            [anniso_factor, 1, 1],\n",
    "            order=0,\n",
    "            anti_aliasing=False,\n",
    "            preserve_range=True,\n",
    "        ).astype(np.uint16)\n",
    "\n",
    "        organoid_mask = rescale(\n",
    "            organoid_mask,\n",
    "            [anniso_factor, 1, 1],\n",
    "            order=0,\n",
    "            anti_aliasing=False,\n",
    "            preserve_range=True,\n",
    "        ).astype(np.uint16)\n",
    "\n",
    "        # Create surface mask\n",
    "        fig = plt.figure(figsize=(6, 6))\n",
    "        fig.subplots_adjust(top=1, bottom=0, left=0, right=1, wspace=0)\n",
    "        ax = fig.add_subplot(111, projection=\"3d\")\n",
    "        ax.set_box_aspect([1, 1, 1])\n",
    "        max_size = (np.array(lumen_mask_label.shape) * 2 * (level**1) * 0.347).max() + 0\n",
    "        ax.set_xlim3d([0, max_size])\n",
    "        ax.set_ylim3d([0, max_size])\n",
    "        ax.set_zlim3d([0, max_size])\n",
    "        shapes = lumen_mask_label.shape\n",
    "\n",
    "        ax.view_init(15, 15)\n",
    "        ax.tick_params(axis=\"both\", pad=5)\n",
    "        ls = LightSource(azdeg=0, altdeg=-65)\n",
    "        labels_frame = np.unique(lumen_mask_label)[1:]\n",
    "        measurements_labels = all_pos[all_pos[\"label\"].isin(labels_frame)]\n",
    "\n",
    "        for label in tqdm(labels_frame):\n",
    "            measuremnt_lum = measurements_labels[measurements_labels[\"label\"] == label][\n",
    "                color_measurement\n",
    "            ]\n",
    "            vertices, faces, _, _ = marching_cubes(\n",
    "                (lumen_mask_label == label).astype(int), 0, step_size=1\n",
    "            )\n",
    "            vertices_clean, faces_clean = pymeshfix.clean_from_arrays(vertices, faces)\n",
    "            vertices_clean = np.round(vertices_clean * 2 * (level**1) * 0.347).astype(\n",
    "                int\n",
    "            )\n",
    "\n",
    "            cell_mesh = Trimesh(vertices=vertices_clean, faces=faces_clean)\n",
    "            cell_mesh = filter_taubin(cell_mesh, iterations=50)\n",
    "\n",
    "            ax.plot_trisurf(\n",
    "                cell_mesh.vertices[:, 0],\n",
    "                cell_mesh.vertices[:, 1],\n",
    "                triangles=cell_mesh.faces,\n",
    "                Z=cell_mesh.vertices[:, 2],\n",
    "                lightsource=ls,\n",
    "                alpha=1.0,\n",
    "                color=cmap_gray_red(norm(measuremnt_lum.iloc[0])),\n",
    "            )\n",
    "        plt.axis(\"off\")\n",
    "        canvas = plt.gca().figure.canvas\n",
    "        canvas.draw()\n",
    "        data = np.frombuffer(canvas.tostring_rgb(), dtype=np.uint8)\n",
    "        image = data.reshape(canvas.get_width_height()[::-1] + (3,))\n",
    "        plt.close()\n",
    "        # plt.imshow(image[100:450,150:500])\n",
    "        # plt.show()\n",
    "        skimage.io.imsave(\n",
    "            f\"updated_figures_figure_2/3D_colored/3D_lumen_{color_measurement}_{condition}_day_{int((t/24)+4)}.png\",\n",
    "            image[100:450, 150:500],\n",
    "        )"
   ]
  },
  {
   "cell_type": "code",
   "execution_count": null,
   "id": "2b2d5477-7280-404c-9d0e-3d1578fa24f8",
   "metadata": {},
   "outputs": [],
   "source": []
  }
 ],
 "metadata": {
  "kernelspec": {
   "display_name": "Python (light_insight)",
   "language": "python",
   "name": "light_insight"
  },
  "language_info": {
   "codemirror_mode": {
    "name": "ipython",
    "version": 3
   },
   "file_extension": ".py",
   "mimetype": "text/x-python",
   "name": "python",
   "nbconvert_exporter": "python",
   "pygments_lexer": "ipython3",
   "version": "3.9.19"
  }
 },
 "nbformat": 4,
 "nbformat_minor": 5
}
