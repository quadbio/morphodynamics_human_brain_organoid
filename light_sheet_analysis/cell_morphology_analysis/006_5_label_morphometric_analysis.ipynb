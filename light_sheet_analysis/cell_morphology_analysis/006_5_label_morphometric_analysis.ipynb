{
 "cells": [
  {
   "cell_type": "code",
   "execution_count": null,
   "id": "ab100120",
   "metadata": {},
   "outputs": [],
   "source": [
    "import matplotlib as mpl\n",
    "import matplotlib.pyplot as plt\n",
    "import numpy as np\n",
    "\n",
    "%matplotlib inline\n",
    "mpl.rcParams[\"figure.dpi\"] = 300\n",
    "\n",
    "import numpy as np\n",
    "import pandas as pd\n",
    "import scanpy as sc\n",
    "import skimage\n",
    "\n",
    "sc.settings.vector_friendly = False\n",
    "\n",
    "plt.rcParams[\"figure.figsize\"] = [12, 8]\n",
    "plt.rcParams[\"figure.dpi\"] = 100\n",
    "from morphometrics.explore.cluster import cluster_features\n",
    "from morphometrics.explore.dimensionality_reduction import pca\n",
    "from morphometrics.utils.anndata_utils import table_to_anndata\n",
    "\n",
    "rng = np.random.default_rng(42)\n",
    "\n",
    "import matplotlib\n",
    "\n",
    "matplotlib.rcParams[\"pdf.fonttype\"] = 42\n",
    "matplotlib.rcParams[\"ps.fonttype\"] = 42"
   ]
  },
  {
   "cell_type": "code",
   "execution_count": null,
   "id": "22164475-ae49-4803-a147-c976001d6e19",
   "metadata": {},
   "outputs": [],
   "source": [
    "measurement_data = sc.read_h5ad(\"anndatas/morphometrics_5_labels_matrigel.h5ad\")"
   ]
  },
  {
   "cell_type": "code",
   "execution_count": null,
   "id": "38973e3d",
   "metadata": {},
   "outputs": [],
   "source": [
    "plt.style.use(\"classic\")\n",
    "plt.style.use(\"seaborn-white\")"
   ]
  },
  {
   "cell_type": "code",
   "execution_count": null,
   "id": "f9cc5e33",
   "metadata": {},
   "outputs": [],
   "source": [
    "import met_brewer\n",
    "\n",
    "colors = met_brewer.met_brew(\n",
    "    name=\"Archambault\",\n",
    "    n=len(np.unique(measurement_data.obs[\"structure_labels\"])),\n",
    "    brew_type=\"continuous\",\n",
    ")"
   ]
  },
  {
   "cell_type": "code",
   "execution_count": null,
   "id": "77d3ea1f",
   "metadata": {},
   "outputs": [],
   "source": [
    "colors_structures = colors.copy()"
   ]
  },
  {
   "cell_type": "code",
   "execution_count": null,
   "id": "a8a4be00",
   "metadata": {},
   "outputs": [],
   "source": [
    "colors_structures[4] = colors[2]\n",
    "colors_structures[2] = colors[4]"
   ]
  },
  {
   "cell_type": "code",
   "execution_count": null,
   "id": "28033b32-32da-40e3-8d95-55b45d7773d2",
   "metadata": {},
   "outputs": [],
   "source": [
    "sc.set_figure_params(dpi=200, vector_friendly=False)\n",
    "\n",
    "sc.pl.umap(\n",
    "    measurement_data,\n",
    "    color=\"structure_labels\",\n",
    "    size=15,\n",
    "    title=\"\",\n",
    "    frameon=False,\n",
    "    legend_fontsize=\"x-small\",\n",
    "    palette=colors_structures,\n",
    ")"
   ]
  },
  {
   "cell_type": "code",
   "execution_count": null,
   "id": "416d14ea-1c3f-4878-8d70-3c01ccbf6971",
   "metadata": {},
   "outputs": [],
   "source": [
    "np.unique(measurement_data.obs[\"Day\"])\n",
    "import matplotlib\n",
    "\n",
    "matplotlib.rcParams[\"pdf.fonttype\"] = 42\n",
    "matplotlib.rcParams[\"ps.fonttype\"] = 42\n",
    "plt.rcParams[\"font.family\"] = \"Arial\""
   ]
  },
  {
   "cell_type": "code",
   "execution_count": null,
   "id": "b40304e4-fbad-4c1b-94fd-e7f905b58616",
   "metadata": {},
   "outputs": [],
   "source": [
    "color_volume_maroon = matplotlib.colors.LinearSegmentedColormap.from_list(\n",
    "    \"\", [\"#f7f7f7\", \"#730215\"]\n",
    ")\n",
    "\n",
    "\n",
    "sc.pl.umap(\n",
    "    measurement_data[\n",
    "        ~(\n",
    "            (measurement_data.obs[\"leiden\"] == \"2\")\n",
    "            | (measurement_data.obs[\"leiden\"] == \"16\")\n",
    "            | (measurement_data.obs[\"leiden\"] == \"18\")\n",
    "            | (measurement_data.obs[\"leiden\"] == \"10\")\n",
    "            | (measurement_data.obs[\"leiden\"] == \"4\")\n",
    "            | (measurement_data.obs[\"leiden\"] == \"0\")\n",
    "        )\n",
    "    ].copy(),\n",
    "    show=True,\n",
    "    color=\"volume_raw\",\n",
    "    size=15,\n",
    "    title=\"\",\n",
    "    cmap=color_volume_maroon,\n",
    "    frameon=False,\n",
    "    legend_fontsize=\"x-small\",\n",
    "    palette=colors_structures,\n",
    ")"
   ]
  },
  {
   "cell_type": "code",
   "execution_count": null,
   "id": "f0e4ddae-0da9-4946-8726-88f8a8a6a2d3",
   "metadata": {},
   "outputs": [],
   "source": [
    "color_axis_midnight_blue = matplotlib.colors.LinearSegmentedColormap.from_list(\n",
    "    \"\", [\"#f7f7f7\", \"#191970\"]\n",
    ")\n",
    "\n",
    "sc.pl.umap(\n",
    "    measurement_data[\n",
    "        (\n",
    "            (measurement_data.obs[\"leiden\"] == \"2\")\n",
    "            | (measurement_data.obs[\"leiden\"] == \"16\")\n",
    "            | (measurement_data.obs[\"leiden\"] == \"18\")\n",
    "            | (measurement_data.obs[\"leiden\"] == \"10\")\n",
    "            | (measurement_data.obs[\"leiden\"] == \"4\")\n",
    "            | (measurement_data.obs[\"leiden\"] == \"0\")\n",
    "        )\n",
    "    ].copy(),\n",
    "    show=True,\n",
    "    color=\"axis_length_ratio_raw\",\n",
    "    cmap=color_axis_midnight_blue,\n",
    "    size=15,\n",
    "    title=\"\",\n",
    "    frameon=False,\n",
    "    legend_fontsize=\"x-small\",\n",
    "    palette=colors_structures,\n",
    ")"
   ]
  },
  {
   "cell_type": "code",
   "execution_count": null,
   "id": "f65d760e-b2e0-4463-812c-a0426e4855db",
   "metadata": {},
   "outputs": [],
   "source": [
    "color_age = matplotlib.colors.LinearSegmentedColormap.from_list(\n",
    "    \"\", [\"#f7f7f7\", \"#1f1f1f\"]\n",
    ")\n",
    "\n",
    "sc.set_figure_params(dpi=200, vector_friendly=False)\n",
    "\n",
    "sc.pl.paga(\n",
    "    measurement_data,\n",
    "    color=[\"Day\"],\n",
    "    title=\"\",\n",
    "    node_size_scale=7,\n",
    "    threshold=0.1,\n",
    "    cmap=color_age,\n",
    "    frameon=False,\n",
    "    # save=\"_graph_age_days_multimosaic.pdf\",\n",
    ")"
   ]
  }
 ],
 "metadata": {
  "kernelspec": {
   "display_name": "Python (morphometrics_v2)",
   "language": "python",
   "name": "morphometrics_v2"
  },
  "language_info": {
   "codemirror_mode": {
    "name": "ipython",
    "version": 3
   },
   "file_extension": ".py",
   "mimetype": "text/x-python",
   "name": "python",
   "nbconvert_exporter": "python",
   "pygments_lexer": "ipython3",
   "version": "3.9.12"
  }
 },
 "nbformat": 4,
 "nbformat_minor": 5
}
