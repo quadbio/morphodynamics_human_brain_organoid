{
 "cells": [
  {
   "cell_type": "code",
   "execution_count": null,
   "id": "a51def16-f058-45f9-8ee9-5813576837cc",
   "metadata": {},
   "outputs": [],
   "source": [
    "import os\n",
    "\n",
    "import matplotlib as mpl\n",
    "import matplotlib.pyplot as plt\n",
    "import numpy as np\n",
    "\n",
    "%matplotlib inline\n",
    "mpl.rcParams[\"figure.dpi\"] = 300\n",
    "from skimage.io import imread\n",
    "\n",
    "plt.style.use(\"dark_background\")\n",
    "plt.rcParams[\"figure.figsize\"] = [12, 8]\n",
    "plt.rcParams[\"figure.dpi\"] = 100  # 200 e.g. is really fine, but slower\n",
    "plt.style.use(\"classic\")\n",
    "plt.style.use(\"seaborn-white\")\n",
    "\n",
    "plt.rcParams[\"figure.figsize\"] = [12, 8]\n",
    "plt.rcParams[\"figure.dpi\"] = 100  # 200 e.g. is really fine, but slower\n",
    "\n",
    "mpl.rcParams[\"pdf.fonttype\"] = 42\n",
    "mpl.rcParams[\"ps.fonttype\"] = 42\n",
    "plt.rcParams[\"font.family\"] = \"Arial\"\n",
    "\n",
    "import re\n",
    "\n",
    "import pandas as pd\n",
    "import scanpy as sc\n",
    "\n",
    "sc.set_figure_params(dpi=200)\n",
    "\n",
    "\n",
    "import seaborn as sns\n",
    "import skimage\n",
    "from morphometrics.explore.cluster import cluster_features\n",
    "from morphometrics.explore.dimensionality_reduction import pca\n",
    "from morphometrics.utils.anndata_utils import table_to_anndata\n",
    "from skimage.measure import label\n",
    "from tqdm import tqdm\n",
    "\n",
    "rng = np.random.default_rng(42)\n",
    "import scipy.spatial.distance as distance\n",
    "\n",
    "\n",
    "def colorFader(\n",
    "    c1, c2, mix=0\n",
    "):  # fade (linear interpolate) from color c1 (at mix=0) to c2 (mix=1)\n",
    "    c1 = np.array(mpl.colors.to_rgb(c1))\n",
    "    c2 = np.array(mpl.colors.to_rgb(c2))\n",
    "    return mpl.colors.to_hex((1 - mix) * c1 + mix * c2)\n",
    "\n",
    "\n",
    "cm = 1 / 2.54  # centimeters in inches\n",
    "import matplotlib"
   ]
  },
  {
   "cell_type": "code",
   "execution_count": null,
   "id": "5983e12e-8ede-42a7-999a-83062f0924ad",
   "metadata": {},
   "outputs": [],
   "source": [
    "# Load data + Pseudotime\n",
    "measurement_data = sc.read_h5ad(\"anndatas/actin_morphometrics_figure_3_pannels_hm.h5ad\")"
   ]
  },
  {
   "cell_type": "code",
   "execution_count": null,
   "id": "8e57306f-8e86-4141-bf83-0d5954c3d359",
   "metadata": {},
   "outputs": [],
   "source": [
    "# Redo clustering, with removed cells\n",
    "%matplotlib inline\n",
    "cluster_features(\n",
    "    measurement_data,\n",
    "    method=\"leiden\",\n",
    "    compute_neighbors=True,\n",
    "    neighbors_kwargs={\"n_pcs\": 5, \"n_neighbors\": 15},\n",
    "    clustering_kwargs={\"resolution\": 16},\n",
    ")\n",
    "\n",
    "sc.tl.umap(measurement_data, min_dist=0.2, spread=2.0)\n",
    "\n",
    "# run PAGA\n",
    "sc.tl.paga(measurement_data, groups=\"leiden\")"
   ]
  },
  {
   "cell_type": "code",
   "execution_count": null,
   "id": "544398aa-201f-42ae-8c6d-3b051fa17fda",
   "metadata": {},
   "outputs": [],
   "source": [
    "sc.pl.umap(\n",
    "    measurement_data,\n",
    "    color=\"leiden\",\n",
    "    size=14,\n",
    "    title=\"\",\n",
    "    frameon=False,\n",
    "    legend_fontsize=\"x-small\",\n",
    ")"
   ]
  },
  {
   "cell_type": "code",
   "execution_count": null,
   "id": "181c2892-948a-4d08-9579-b9d2ebcc363d",
   "metadata": {},
   "outputs": [],
   "source": [
    "sc.pl.paga(\n",
    "    measurement_data,\n",
    "    color=[\"leiden\"],\n",
    "    title=\"\",\n",
    "    node_size_scale=7,\n",
    "    threshold=0.1,\n",
    "    frameon=False,\n",
    ")"
   ]
  },
  {
   "cell_type": "code",
   "execution_count": null,
   "id": "7f24539d-c555-441b-ac17-d12237729ac7",
   "metadata": {},
   "outputs": [],
   "source": [
    "# rerun umap and init on paga\n",
    "sc.tl.umap(measurement_data, init_pos=\"paga\")\n",
    "# pick starting cell for pseudotime\n",
    "measurement_data.uns[\"iroot\"] = np.flatnonzero(\n",
    "    measurement_data.obs[\"leiden\"] == leiden_age_sorted[\"cluster\"][0]\n",
    ")[0]\n",
    "sc.tl.diffmap(measurement_data)\n",
    "sc.tl.dpt(measurement_data)"
   ]
  },
  {
   "cell_type": "code",
   "execution_count": null,
   "id": "64131b08-ac3b-4598-92c1-e5b1e3594dea",
   "metadata": {},
   "outputs": [],
   "source": [
    "adata.write(\"anndatas/actin_morphometrics_extended_figure_7_fine_grain.h5ad\")"
   ]
  }
 ],
 "metadata": {
  "kernelspec": {
   "display_name": "Python (morphometrics_v2)",
   "language": "python",
   "name": "morphometrics_v2"
  },
  "language_info": {
   "codemirror_mode": {
    "name": "ipython",
    "version": 3
   },
   "file_extension": ".py",
   "mimetype": "text/x-python",
   "name": "python",
   "nbconvert_exporter": "python",
   "pygments_lexer": "ipython3",
   "version": "3.9.12"
  }
 },
 "nbformat": 4,
 "nbformat_minor": 5
}
