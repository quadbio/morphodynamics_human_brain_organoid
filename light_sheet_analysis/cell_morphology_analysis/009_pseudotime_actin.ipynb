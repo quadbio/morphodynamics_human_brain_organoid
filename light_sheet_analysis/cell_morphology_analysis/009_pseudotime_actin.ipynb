{
 "cells": [
  {
   "cell_type": "code",
   "execution_count": null,
   "id": "a51def16-f058-45f9-8ee9-5813576837cc",
   "metadata": {},
   "outputs": [],
   "source": [
    "import os\n",
    "\n",
    "import matplotlib as mpl\n",
    "import matplotlib.pyplot as plt\n",
    "import numpy as np\n",
    "\n",
    "%matplotlib inline\n",
    "mpl.rcParams[\"figure.dpi\"] = 300\n",
    "from skimage.io import imread\n",
    "\n",
    "plt.style.use(\"dark_background\")\n",
    "plt.rcParams[\"figure.figsize\"] = [12, 8]\n",
    "plt.rcParams[\"figure.dpi\"] = 100\n",
    "plt.style.use(\"classic\")\n",
    "plt.style.use(\"seaborn-white\")\n",
    "\n",
    "mpl.rcParams[\"pdf.fonttype\"] = 42\n",
    "mpl.rcParams[\"ps.fonttype\"] = 42\n",
    "plt.rcParams[\"font.family\"] = \"Arial\"\n",
    "\n",
    "import re\n",
    "\n",
    "import pandas as pd\n",
    "import scanpy as sc\n",
    "\n",
    "sc.set_figure_params(dpi=200)\n",
    "\n",
    "\n",
    "import seaborn as sns\n",
    "import skimage\n",
    "from morphometrics.explore.cluster import cluster_features\n",
    "from morphometrics.explore.dimensionality_reduction import pca\n",
    "from morphometrics.utils.anndata_utils import table_to_anndata\n",
    "from skimage.measure import label\n",
    "from tqdm import tqdm\n",
    "\n",
    "rng = np.random.default_rng(42)\n",
    "import scipy.spatial.distance as distance\n",
    "\n",
    "\n",
    "def colorFader(\n",
    "    c1, c2, mix=0\n",
    "):  # fade (linear interpolate) from color c1 (at mix=0) to c2 (mix=1)\n",
    "    c1 = np.array(mpl.colors.to_rgb(c1))\n",
    "    c2 = np.array(mpl.colors.to_rgb(c2))\n",
    "    return mpl.colors.to_hex((1 - mix) * c1 + mix * c2)\n",
    "\n",
    "\n",
    "cm = 1 / 2.54  # centimeters in inches"
   ]
  },
  {
   "cell_type": "code",
   "execution_count": null,
   "id": "facabcfd-ed53-489a-ba25-ab5b90383b93",
   "metadata": {},
   "outputs": [],
   "source": [
    "# Color palette\n",
    "color_pink_midnight_blue = mpl.colors.LinearSegmentedColormap.from_list(\n",
    "    \"\", [\"#b3107a\", \"#f7f7f7\", \"#191970\"]\n",
    ")\n",
    "# Load data + Pseudotime\n",
    "measurement_data = sc.read_h5ad(\"anndatas/actin_morphometrics_figure_3_pannels_hm.h5ad\")"
   ]
  },
  {
   "cell_type": "code",
   "execution_count": null,
   "id": "5983e12e-8ede-42a7-999a-83062f0924ad",
   "metadata": {},
   "outputs": [],
   "source": [
    "# pick starting cell for pseudotime\n",
    "measurement_data.uns[\"iroot\"] = np.flatnonzero(measurement_data.obs[\"leiden\"] == \"2\")[9]\n",
    "sc.tl.diffmap(measurement_data)\n",
    "sc.tl.dpt(measurement_data)\n",
    "mean_age = measurement_data.obs.groupby(\"leiden\")[\"Day\"].mean()"
   ]
  },
  {
   "cell_type": "code",
   "execution_count": null,
   "id": "2d1ac190-7509-4b1b-be91-3397e5f9b8f5",
   "metadata": {},
   "outputs": [],
   "source": [
    "# PAGA Path complete\n",
    "sc.pl.paga_path(\n",
    "    measurement_data,\n",
    "    n_avg=50,\n",
    "    nodes=[\"2\", \"6\", \"3\", \"7\", \"5\", \"0\", \"1\", \"4\"],\n",
    "    keys=measurement_data.var_names,\n",
    "    color_maps_annotations={\"dpt_pseudotime\": \"Greys\", \"Day\": \"Greys\"},\n",
    "    annotations=(\"dpt_pseudotime\", \"Day\"),\n",
    "    normalize_to_zero_one=True,\n",
    "    color_map=color_pink_midnight_blue,\n",
    ")"
   ]
  },
  {
   "cell_type": "code",
   "execution_count": null,
   "id": "7f4c12a3-f59f-4139-83eb-8e30435799ce",
   "metadata": {},
   "outputs": [],
   "source": [
    "plot_measueremnts = [\n",
    "    \"surface_area\",\n",
    "    \"area\",\n",
    "    \"convex_area\",\n",
    "    \"bbox_area\",\n",
    "    \"curvature_mean\",\n",
    "    \"curvature_stdev\",\n",
    "    \"axis_minor_length\",\n",
    "    \"axis_major_length\",\n",
    "]"
   ]
  },
  {
   "cell_type": "code",
   "execution_count": null,
   "id": "c2df7f72-a9b6-47f7-b257-6362dda5fabd",
   "metadata": {},
   "outputs": [],
   "source": [
    "# PAGA Path sub\n",
    "color_midnight_blue = mpl.colors.LinearSegmentedColormap.from_list(\n",
    "    \"\", [\"#f7f7f7\", \"#191970\"]\n",
    ")\n",
    "sc.pl.paga_path(\n",
    "    measurement_data,\n",
    "    n_avg=50,\n",
    "    nodes=[\"2\", \"6\", \"3\", \"7\", \"5\", \"0\", \"1\", \"4\"],\n",
    "    keys=plot_measueremnts,\n",
    "    color_maps_annotations={\n",
    "        \"Day\": \"Greys\",\n",
    "    },\n",
    "    annotations=(\"Day\",),\n",
    "    normalize_to_zero_one=True,\n",
    "    color_map=color_midnight_blue,\n",
    ")"
   ]
  }
 ],
 "metadata": {
  "kernelspec": {
   "display_name": "Python (morphometrics_v2)",
   "language": "python",
   "name": "morphometrics_v2"
  },
  "language_info": {
   "codemirror_mode": {
    "name": "ipython",
    "version": 3
   },
   "file_extension": ".py",
   "mimetype": "text/x-python",
   "name": "python",
   "nbconvert_exporter": "python",
   "pygments_lexer": "ipython3",
   "version": "3.9.12"
  }
 },
 "nbformat": 4,
 "nbformat_minor": 5
}
