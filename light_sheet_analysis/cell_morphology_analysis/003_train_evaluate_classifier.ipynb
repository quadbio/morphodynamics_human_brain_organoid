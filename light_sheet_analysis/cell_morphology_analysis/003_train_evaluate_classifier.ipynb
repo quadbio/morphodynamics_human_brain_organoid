{
 "cells": [
  {
   "cell_type": "code",
   "execution_count": 1,
   "id": "6b70cab2-f1da-4354-940c-c0fd50ab6034",
   "metadata": {},
   "outputs": [
    {
     "name": "stderr",
     "output_type": "stream",
     "text": [
      "/cluster/project/treutlein/USERS/gutgi/miniconda3/envs/morphometrics_v2/lib/python3.9/site-packages/morphometrics/measure/label.py:7: TqdmWarning: IProgress not found. Please update jupyter and ipywidgets. See https://ipywidgets.readthedocs.io/en/stable/user_install.html\n",
      "  from tqdm.autonotebook import tqdm\n"
     ]
    },
    {
     "name": "stdout",
     "output_type": "stream",
     "text": [
      "0.19.3\n"
     ]
    }
   ],
   "source": [
    "# Load all packages\n",
    "import os\n",
    "import sys\n",
    "import time\n",
    "from urllib.parse import urlparse\n",
    "\n",
    "import matplotlib as mpl\n",
    "import matplotlib.pyplot as plt\n",
    "import numpy as np\n",
    "\n",
    "%matplotlib inline\n",
    "mpl.rcParams[\"figure.dpi\"] = 300\n",
    "import glob\n",
    "import re\n",
    "\n",
    "import anndata\n",
    "import h5py\n",
    "import joblib\n",
    "import napari\n",
    "import numpy as np\n",
    "import pandas as pd\n",
    "import psutil\n",
    "import pymeshfix\n",
    "import pyvista as pv\n",
    "import scanpy as sc\n",
    "import skimage\n",
    "from IPython.display import HTML, clear_output\n",
    "from morphometrics.measure import measure_selected\n",
    "from PIL import Image\n",
    "from skimage import draw\n",
    "from skimage.io import imread, imsave\n",
    "from skimage.measure import label, marching_cubes, regionprops, regionprops_table\n",
    "from skimage.transform import downscale_local_mean, rescale, resize\n",
    "from sklearn.metrics import accuracy_score, confusion_matrix\n",
    "from tqdm import tqdm\n",
    "\n",
    "print(skimage.__version__)"
   ]
  },
  {
   "cell_type": "code",
   "execution_count": 2,
   "id": "2d009e9e-dca8-4af1-851c-42d69280d929",
   "metadata": {},
   "outputs": [],
   "source": [
    "# Load annotated dataset\n",
    "seg_directory = \"/cluster/project/treutlein/DATA/imaging/viventis/Morphodynamics_of_human_early_brain_organoid_development/3D_Brain_organoids_half_res_morphometrics/\"\n",
    "\n",
    "annotation_directory_v1 = \"/cluster/project/treutlein/DATA/imaging/EmbedSeg_test/data/3D_Brain_organoids_half_res_morphometrics/Annotation_QC_updated/\"\n",
    "labeled_DF = pd.read_hdf(f\"{seg_directory}/training_data_19_06_2023.h5\", index=\"0\")"
   ]
  },
  {
   "cell_type": "code",
   "execution_count": 3,
   "id": "b524f2e4-2db9-4495-ac9c-d36902249a62",
   "metadata": {},
   "outputs": [],
   "source": [
    "# Test set\n",
    "# Create training date and create a stratified split\n",
    "X_frame = labeled_DF.loc[:, labeled_DF.columns != \"time_point\"].iloc[:, 6:-7]\n",
    "X_frame[\"channel\"] = (labeled_DF[\"channel\"] == \"GFP\").astype(int)\n",
    "X = np.array(X_frame)\n",
    "y = np.array(labeled_DF[\"Label\"])"
   ]
  },
  {
   "cell_type": "code",
   "execution_count": 4,
   "id": "d6db0043-c83a-455c-9919-0220132d5191",
   "metadata": {},
   "outputs": [],
   "source": [
    "from sklearn.model_selection import train_test_split\n",
    "\n",
    "# train test split, stratify to ensure all labels are in test/train\n",
    "X_train, X_test, y_train, y_test = train_test_split(\n",
    "    X, y, test_size=0.1, random_state=42, stratify=y\n",
    ")"
   ]
  },
  {
   "cell_type": "code",
   "execution_count": 5,
   "id": "68358274-3792-492e-886f-483c01c5d3c4",
   "metadata": {},
   "outputs": [
    {
     "data": {
      "text/html": [
       "<style>#sk-container-id-1 {color: black;background-color: white;}#sk-container-id-1 pre{padding: 0;}#sk-container-id-1 div.sk-toggleable {background-color: white;}#sk-container-id-1 label.sk-toggleable__label {cursor: pointer;display: block;width: 100%;margin-bottom: 0;padding: 0.3em;box-sizing: border-box;text-align: center;}#sk-container-id-1 label.sk-toggleable__label-arrow:before {content: \"▸\";float: left;margin-right: 0.25em;color: #696969;}#sk-container-id-1 label.sk-toggleable__label-arrow:hover:before {color: black;}#sk-container-id-1 div.sk-estimator:hover label.sk-toggleable__label-arrow:before {color: black;}#sk-container-id-1 div.sk-toggleable__content {max-height: 0;max-width: 0;overflow: hidden;text-align: left;background-color: #f0f8ff;}#sk-container-id-1 div.sk-toggleable__content pre {margin: 0.2em;color: black;border-radius: 0.25em;background-color: #f0f8ff;}#sk-container-id-1 input.sk-toggleable__control:checked~div.sk-toggleable__content {max-height: 200px;max-width: 100%;overflow: auto;}#sk-container-id-1 input.sk-toggleable__control:checked~label.sk-toggleable__label-arrow:before {content: \"▾\";}#sk-container-id-1 div.sk-estimator input.sk-toggleable__control:checked~label.sk-toggleable__label {background-color: #d4ebff;}#sk-container-id-1 div.sk-label input.sk-toggleable__control:checked~label.sk-toggleable__label {background-color: #d4ebff;}#sk-container-id-1 input.sk-hidden--visually {border: 0;clip: rect(1px 1px 1px 1px);clip: rect(1px, 1px, 1px, 1px);height: 1px;margin: -1px;overflow: hidden;padding: 0;position: absolute;width: 1px;}#sk-container-id-1 div.sk-estimator {font-family: monospace;background-color: #f0f8ff;border: 1px dotted black;border-radius: 0.25em;box-sizing: border-box;margin-bottom: 0.5em;}#sk-container-id-1 div.sk-estimator:hover {background-color: #d4ebff;}#sk-container-id-1 div.sk-parallel-item::after {content: \"\";width: 100%;border-bottom: 1px solid gray;flex-grow: 1;}#sk-container-id-1 div.sk-label:hover label.sk-toggleable__label {background-color: #d4ebff;}#sk-container-id-1 div.sk-serial::before {content: \"\";position: absolute;border-left: 1px solid gray;box-sizing: border-box;top: 0;bottom: 0;left: 50%;z-index: 0;}#sk-container-id-1 div.sk-serial {display: flex;flex-direction: column;align-items: center;background-color: white;padding-right: 0.2em;padding-left: 0.2em;position: relative;}#sk-container-id-1 div.sk-item {position: relative;z-index: 1;}#sk-container-id-1 div.sk-parallel {display: flex;align-items: stretch;justify-content: center;background-color: white;position: relative;}#sk-container-id-1 div.sk-item::before, #sk-container-id-1 div.sk-parallel-item::before {content: \"\";position: absolute;border-left: 1px solid gray;box-sizing: border-box;top: 0;bottom: 0;left: 50%;z-index: -1;}#sk-container-id-1 div.sk-parallel-item {display: flex;flex-direction: column;z-index: 1;position: relative;background-color: white;}#sk-container-id-1 div.sk-parallel-item:first-child::after {align-self: flex-end;width: 50%;}#sk-container-id-1 div.sk-parallel-item:last-child::after {align-self: flex-start;width: 50%;}#sk-container-id-1 div.sk-parallel-item:only-child::after {width: 0;}#sk-container-id-1 div.sk-dashed-wrapped {border: 1px dashed gray;margin: 0 0.4em 0.5em 0.4em;box-sizing: border-box;padding-bottom: 0.4em;background-color: white;}#sk-container-id-1 div.sk-label label {font-family: monospace;font-weight: bold;display: inline-block;line-height: 1.2em;}#sk-container-id-1 div.sk-label-container {text-align: center;}#sk-container-id-1 div.sk-container {/* jupyter's `normalize.less` sets `[hidden] { display: none; }` but bootstrap.min.css set `[hidden] { display: none !important; }` so we also need the `!important` here to be able to override the default hidden behavior on the sphinx rendered scikit-learn.org. See: https://github.com/scikit-learn/scikit-learn/issues/21755 */display: inline-block !important;position: relative;}#sk-container-id-1 div.sk-text-repr-fallback {display: none;}</style><div id=\"sk-container-id-1\" class=\"sk-top-container\"><div class=\"sk-text-repr-fallback\"><pre>GridSearchCV(cv=4, estimator=RandomForestClassifier(n_jobs=1, random_state=42),\n",
       "             param_grid={&#x27;max_depth&#x27;: [10, 15, 20, 25],\n",
       "                         &#x27;n_estimators&#x27;: [50, 75, 100]},\n",
       "             scoring=&#x27;accuracy&#x27;, verbose=False)</pre><b>In a Jupyter environment, please rerun this cell to show the HTML representation or trust the notebook. <br />On GitHub, the HTML representation is unable to render, please try loading this page with nbviewer.org.</b></div><div class=\"sk-container\" hidden><div class=\"sk-item sk-dashed-wrapped\"><div class=\"sk-label-container\"><div class=\"sk-label sk-toggleable\"><input class=\"sk-toggleable__control sk-hidden--visually\" id=\"sk-estimator-id-1\" type=\"checkbox\" ><label for=\"sk-estimator-id-1\" class=\"sk-toggleable__label sk-toggleable__label-arrow\">GridSearchCV</label><div class=\"sk-toggleable__content\"><pre>GridSearchCV(cv=4, estimator=RandomForestClassifier(n_jobs=1, random_state=42),\n",
       "             param_grid={&#x27;max_depth&#x27;: [10, 15, 20, 25],\n",
       "                         &#x27;n_estimators&#x27;: [50, 75, 100]},\n",
       "             scoring=&#x27;accuracy&#x27;, verbose=False)</pre></div></div></div><div class=\"sk-parallel\"><div class=\"sk-parallel-item\"><div class=\"sk-item\"><div class=\"sk-label-container\"><div class=\"sk-label sk-toggleable\"><input class=\"sk-toggleable__control sk-hidden--visually\" id=\"sk-estimator-id-2\" type=\"checkbox\" ><label for=\"sk-estimator-id-2\" class=\"sk-toggleable__label sk-toggleable__label-arrow\">estimator: RandomForestClassifier</label><div class=\"sk-toggleable__content\"><pre>RandomForestClassifier(n_jobs=1, random_state=42)</pre></div></div></div><div class=\"sk-serial\"><div class=\"sk-item\"><div class=\"sk-estimator sk-toggleable\"><input class=\"sk-toggleable__control sk-hidden--visually\" id=\"sk-estimator-id-3\" type=\"checkbox\" ><label for=\"sk-estimator-id-3\" class=\"sk-toggleable__label sk-toggleable__label-arrow\">RandomForestClassifier</label><div class=\"sk-toggleable__content\"><pre>RandomForestClassifier(n_jobs=1, random_state=42)</pre></div></div></div></div></div></div></div></div></div></div>"
      ],
      "text/plain": [
       "GridSearchCV(cv=4, estimator=RandomForestClassifier(n_jobs=1, random_state=42),\n",
       "             param_grid={'max_depth': [10, 15, 20, 25],\n",
       "                         'n_estimators': [50, 75, 100]},\n",
       "             scoring='accuracy', verbose=False)"
      ]
     },
     "execution_count": 5,
     "metadata": {},
     "output_type": "execute_result"
    }
   ],
   "source": [
    "# Test how well the classifier is doing --> confusion matrix on the test set\n",
    "from sklearn.ensemble import RandomForestClassifier\n",
    "from sklearn.model_selection import GridSearchCV\n",
    "\n",
    "rfc = RandomForestClassifier(n_jobs=1, random_state=42)\n",
    "parameters = {\"max_depth\": [10, 15, 20, 25], \"n_estimators\": [50, 75, 100]}\n",
    "grid_clf = GridSearchCV(\n",
    "    rfc, parameters, cv=4, scoring=\"accuracy\", verbose=False, refit=True\n",
    ")\n",
    "grid_clf.fit(X_train, y_train)"
   ]
  },
  {
   "cell_type": "code",
   "execution_count": null,
   "id": "da70c414-1f2c-4d1b-bf58-7007f303058c",
   "metadata": {},
   "outputs": [],
   "source": [
    "# Accuracy on test\n",
    "from sklearn.metrics import accuracy_score\n",
    "\n",
    "y_pred = grid_clf.predict(X_test)\n",
    "print(accuracy_score(y_test, y_pred))"
   ]
  },
  {
   "cell_type": "code",
   "execution_count": null,
   "id": "03d4a9c3-b362-4f38-a7cd-41c908a26b60",
   "metadata": {},
   "outputs": [],
   "source": [
    "# Save classifier\n",
    "rf_save_dir = \"/cluster/home/gutgi/git_repositories/morphodynamics-of-human-brain-organoid-patterning/light_sheet_analysis/cell_morphology_analysis/models/random_forrest_all_v29_06_23.joblib\"\n",
    "joblib.dump(grid_clf, rf_save_dir)\n",
    "grid_clf = joblib.load(rf_save_dir)"
   ]
  },
  {
   "cell_type": "code",
   "execution_count": 25,
   "id": "d4230da8-ee18-4549-b6b2-277177594c49",
   "metadata": {},
   "outputs": [],
   "source": [
    "from sklearn.model_selection import StratifiedKFold\n",
    "\n",
    "random_forrest = RandomForestClassifier(\n",
    "    n_jobs=1, max_depth=25, n_estimators=75, random_state=42\n",
    ")\n",
    "\n",
    "skf = StratifiedKFold(n_splits=4, shuffle=True, random_state=42)\n",
    "skf.get_n_splits(X, y)\n",
    "cm = np.zeros((len(labels), len(labels)))\n",
    "for i, (train_index, test_index) in enumerate(skf.split(X, y)):\n",
    "    X_training = X[train_index]\n",
    "    y_training = y[train_index]\n",
    "\n",
    "    random_forrest.fit(X_training, y_training)\n",
    "\n",
    "    X_testing = X[test_index]\n",
    "    y_testing = y[test_index]\n",
    "\n",
    "    y_prediction = random_forrest.predict(X_testing)\n",
    "    cm += confusion_matrix(y_testing, y_prediction)\n",
    "cm = cm.astype(int)\n",
    "cm = pd.DataFrame(cm, columns=labels, index=labels)\n",
    "markers_cm = cm.iloc[1:, 1:]\n",
    "tp = markers_cm.values[[np.arange(markers_cm.shape[0])] * 2]\n",
    "total_positives = markers_cm.sum(axis=0)\n",
    "true_positive_rate = tp / total_positives\n",
    "true_positive_rate = pd.DataFrame(true_positive_rate)\n",
    "true_positive_rate.columns = [\"Cross validation true positive rate\"]"
   ]
  },
  {
   "cell_type": "code",
   "execution_count": 23,
   "id": "fb9ee645-1735-437a-8824-d6165826c995",
   "metadata": {},
   "outputs": [],
   "source": []
  }
 ],
 "metadata": {
  "kernelspec": {
   "display_name": "Python (morphometrics_v2)",
   "language": "python",
   "name": "morphometrics_v2"
  },
  "language_info": {
   "codemirror_mode": {
    "name": "ipython",
    "version": 3
   },
   "file_extension": ".py",
   "mimetype": "text/x-python",
   "name": "python",
   "nbconvert_exporter": "python",
   "pygments_lexer": "ipython3",
   "version": "3.9.12"
  }
 },
 "nbformat": 4,
 "nbformat_minor": 5
}
