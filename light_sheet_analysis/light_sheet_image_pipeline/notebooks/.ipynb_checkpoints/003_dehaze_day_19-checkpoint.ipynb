{
 "cells": [
  {
   "cell_type": "code",
   "execution_count": null,
   "id": "b14487e7",
   "metadata": {},
   "outputs": [],
   "source": [
    "import matplotlib.pyplot as plt\n",
    "import numpy as np\n",
    "import skimage.io\n",
    "from matplotlib.colors import ListedColormap\n",
    "from skimage import exposure\n",
    "from skimage.io import imread, imsave\n",
    "\n",
    "%matplotlib inline\n",
    "import cupy as cp\n",
    "from dexp.processing.restoration import dehazing\n",
    "from dexp.utils.backends import Backend, CupyBackend, NumpyBackend, best_backend\n",
    "from tqdm import tqdm\n",
    "\n",
    "cp.cuda.set_allocator(cp.cuda.MemoryPool(cp.cuda.malloc_managed).malloc)\n",
    "import os"
   ]
  },
  {
   "cell_type": "code",
   "execution_count": 3,
   "id": "0ae05456-e9e5-435a-ba80-eef9fb656d20",
   "metadata": {},
   "outputs": [],
   "source": [
    "def create_MIP(im_proj):\n",
    "    im_proj = skimage.exposure.rescale_intensity(im_proj, out_range=(0, 1))\n",
    "    vmin_green, vmax_green = np.percentile(im_proj[0, :, :], q=(0.5, 99.5))\n",
    "    clipped_green = exposure.rescale_intensity(\n",
    "        im_proj[0, :, :], in_range=(vmin_green, vmax_green), out_range=np.float32\n",
    "    )\n",
    "\n",
    "    vmin_magenta, vmax_magenta = np.percentile(im_proj[1, :, :], q=(0.5, 99.5))\n",
    "    clipped_magenta = exposure.rescale_intensity(\n",
    "        im_proj[1, :, :], in_range=(vmin_magenta, vmax_magenta), out_range=np.float32\n",
    "    )\n",
    "\n",
    "    channel1 = green_matplotlib_map(clipped_green)\n",
    "    channel2 = magenta_matplotlib_map(clipped_magenta)\n",
    "    assembled = np.stack((channel1, channel2), axis=3)\n",
    "    newim = np.max(assembled, axis=3)\n",
    "    return newim"
   ]
  },
  {
   "cell_type": "code",
   "execution_count": null,
   "id": "758a5d2a-c4fa-4b3e-9acb-9ddd610a4629",
   "metadata": {},
   "outputs": [],
   "source": [
    "t = 455\n",
    "output = \"/cluster/work/treutlein/DATA/imaging/viventis/His-GFP_memRFP_WTC_HB4_D4_Eb22-03-21/Position_1_Settings_1/denoised/\"\n",
    "stack_mcherry = imread(output + \"mCherry/t\" + f\"{t:04}\" + \"_mCherry.tif\")\n",
    "stack_gfp = imread(output + \"GFP/t\" + f\"{t:04}\" + \"_GFP.tif\")\n",
    "stack_mcherry = dehaze_downscale(\n",
    "    cp.asarray(stack_mcherry.astype(np.float32)), size=50, minimal_zero_level=0\n",
    ").get()\n",
    "stack_gfp = dehaze_downscale(\n",
    "    cp.asarray(stack_gfp.astype(np.float32)), size=50, minimal_zero_level=0\n",
    ").get()\n",
    "\n",
    "image = np.stack([stack_gfp, stack_mcherry], axis=0)\n",
    "print(np.max(image))\n",
    "\n",
    "ims = []\n",
    "colors = [\"Red\", \"Magenta\"]\n",
    "green_map = [[0, i / 255, 0] for i in range(256)]\n",
    "green_matplotlib_map = ListedColormap(green_map, \"Green\")\n",
    "magenta_map = [[i / 255, 0, i / 255] for i in range(256)]\n",
    "magenta_matplotlib_map = ListedColormap(magenta_map, \"Magenta\")\n",
    "\n",
    "\n",
    "im_proj = np.max(image, axis=1)\n",
    "im_proj = skimage.exposure.rescale_intensity(im_proj, out_range=(0, 1))\n",
    "vmin_green, vmax_green = np.percentile(im_proj[0, :, :], q=(0.5, 99.5))\n",
    "clipped_green = exposure.rescale_intensity(\n",
    "    im_proj[0, :, :], in_range=(vmin_green, vmax_green), out_range=np.float32\n",
    ")\n",
    "\n",
    "vmin_magenta, vmax_magenta = np.percentile(im_proj[1, :, :], q=(0.5, 99.5))\n",
    "clipped_magenta = exposure.rescale_intensity(\n",
    "    im_proj[1, :, :], in_range=(vmin_magenta, vmax_magenta), out_range=np.float32\n",
    ")\n",
    "channel1 = green_matplotlib_map(clipped_green)\n",
    "channel2 = magenta_matplotlib_map(clipped_magenta)\n",
    "\n",
    "assembled = np.stack((channel1, channel2), axis=3)\n",
    "newim = np.max(assembled, axis=3)\n",
    "\n",
    "fig, axes = plt.subplots(1, figsize=(20, 20))\n",
    "axes.imshow(newim)\n",
    "plt.show()"
   ]
  },
  {
   "cell_type": "code",
   "execution_count": 7,
   "id": "1145dfbb",
   "metadata": {},
   "outputs": [],
   "source": [
    "images_folder = \"/cluster/project/treutlein/DATA/imaging/viventis/His-GFP_memRFP_WTC_HB4_D4_Eb22-03-21_processed/Position_1_Settings_1_Processed/dehazed/\"\n",
    "if not os.path.exists(images_folder):\n",
    "    os.makedirs(images_folder)"
   ]
  },
  {
   "cell_type": "code",
   "execution_count": 11,
   "id": "5b50b739",
   "metadata": {},
   "outputs": [],
   "source": [
    "channels = [\"GFP\", \"mCherry\"]\n",
    "output = \"/cluster/work/treutlein/DATA/imaging/viventis/His-GFP_memRFP_WTC_HB4_D4_Eb22-03-21/Position_1_Settings_1/denoised/\""
   ]
  },
  {
   "cell_type": "code",
   "execution_count": null,
   "id": "bf4f5f15",
   "metadata": {},
   "outputs": [],
   "source": [
    "for t in tqdm(range(1, 699)):\n",
    "    for channel in tqdm(channels):\n",
    "        stack = imread(output + f\"{channel}/t{t:04}_{channel}.tif\").copy()\n",
    "        with CupyBackend():\n",
    "            xp = Backend.get_xp_module()\n",
    "            print(xp)\n",
    "            stack_dehazed = dehazing.dehaze(\n",
    "                cp.asarray(stack).astype(np.float32),\n",
    "                size=60,\n",
    "                minimal_zero_level=0,\n",
    "                correct_max_level=False,\n",
    "            )\n",
    "            stack_dehazed = Backend.to_numpy(stack_dehazed)\n",
    "        output_path = f\"{images_folder}{channel}/\"\n",
    "        if not os.path.exists(output_path):\n",
    "            os.makedirs(output_path)\n",
    "        imsave(\n",
    "            output_path + f\"t{t:04}_{channel}.tif\",\n",
    "            stack_dehazed.clip(0.0, 2**16 - 1).astype(np.uint16),\n",
    "            plugin=\"tifffile\",\n",
    "            check_contrast=False,\n",
    "            compress=6,\n",
    "            bigtiff=True,\n",
    "        )"
   ]
  }
 ],
 "metadata": {
  "kernelspec": {
   "display_name": "aydin_env",
   "language": "python",
   "name": "aydin_env"
  },
  "language_info": {
   "codemirror_mode": {
    "name": "ipython",
    "version": 3
   },
   "file_extension": ".py",
   "mimetype": "text/x-python",
   "name": "python",
   "nbconvert_exporter": "python",
   "pygments_lexer": "ipython3",
   "version": "3.9.7"
  }
 },
 "nbformat": 4,
 "nbformat_minor": 5
}
