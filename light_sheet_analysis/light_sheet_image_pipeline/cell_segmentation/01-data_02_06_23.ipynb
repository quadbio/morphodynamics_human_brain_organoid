{
 "cells": [
  {
   "cell_type": "code",
   "execution_count": 1,
   "metadata": {},
   "outputs": [],
   "source": [
    "import json\n",
    "import os\n",
    "from glob import glob\n",
    "\n",
    "import numpy as np\n",
    "from EmbedSeg.utils.generate_crops import *\n",
    "from EmbedSeg.utils.preprocess_data import get_data_properties\n",
    "from EmbedSeg.utils.visualize import visualize_crop_3d\n",
    "from matplotlib.colors import ListedColormap\n",
    "from tqdm import tqdm"
   ]
  },
  {
   "cell_type": "markdown",
   "metadata": {},
   "source": [
    "### Calculate some dataset specific properties "
   ]
  },
  {
   "cell_type": "markdown",
   "metadata": {},
   "source": [
    "In the next cell, we will calculate properties of the data such as `min_object_size`, `foreground_weight` etc. <br>\n",
    "We will also specify some properties, for example,  \n",
    "\n",
    "* set `data_properties_dir['data_type']='16-bit'` if the images are of datatype `unsigned 16 bit` and \n",
    "    `data_properties_dir['data_type']='8-bit'` if the images are of datatype `unsigned 8 bit`.\n",
    "\n",
    "Lastly, we will save the dictionary `data_properties_dir` in a json file, which we will access in the `02-train` and `03-predict` notebooks."
   ]
  },
  {
   "cell_type": "code",
   "execution_count": 2,
   "metadata": {},
   "outputs": [],
   "source": [
    "data_dir = \"/cluster/project/treutlein/DATA/imaging/EmbedSeg_test/data/\"\n",
    "project_name = \"3D_Brain_organoids_with_meta\"\n",
    "run_name = \"all_06_02_2023\""
   ]
  },
  {
   "cell_type": "code",
   "execution_count": 3,
   "metadata": {},
   "outputs": [
    {
     "name": "stderr",
     "output_type": "stream",
     "text": [
      "100%|██████████| 72/72 [00:07<00:00, 10.12it/s]\n"
     ]
    },
    {
     "name": "stdout",
     "output_type": "stream",
     "text": [
      "Foreground weight of the `3D_Brain_organoids_with_meta` dataset set equal to 48.009\n"
     ]
    },
    {
     "name": "stderr",
     "output_type": "stream",
     "text": [
      "100%|██████████| 88/88 [00:01<00:00, 45.55it/s]\n",
      "100%|██████████| 38/38 [00:01<00:00, 27.21it/s]\n",
      "100%|██████████| 108/108 [00:01<00:00, 64.95it/s]\n",
      "100%|██████████| 101/101 [00:01<00:00, 64.98it/s]\n",
      "100%|██████████| 151/151 [00:02<00:00, 64.98it/s]\n",
      "100%|██████████| 60/60 [00:00<00:00, 61.12it/s]\n",
      "100%|██████████| 137/137 [00:01<00:00, 81.72it/s]\n",
      "100%|██████████| 131/131 [00:01<00:00, 107.50it/s]\n",
      "100%|██████████| 107/107 [00:01<00:00, 81.56it/s]\n",
      "100%|██████████| 42/42 [00:00<00:00, 87.16it/s]\n",
      "100%|██████████| 83/83 [00:01<00:00, 53.71it/s]\n",
      "100%|██████████| 39/39 [00:00<00:00, 60.72it/s]\n",
      "100%|██████████| 117/117 [00:01<00:00, 61.26it/s]\n",
      "100%|██████████| 140/140 [00:02<00:00, 64.67it/s]\n",
      "100%|██████████| 145/145 [00:02<00:00, 64.95it/s]\n",
      "100%|██████████| 184/184 [00:02<00:00, 64.76it/s]\n",
      "100%|██████████| 60/60 [00:00<00:00, 60.53it/s]\n",
      "100%|██████████| 57/57 [00:00<00:00, 61.28it/s]\n",
      "100%|██████████| 119/119 [00:01<00:00, 60.76it/s]\n",
      "100%|██████████| 90/90 [00:01<00:00, 60.84it/s]\n",
      "100%|██████████| 111/111 [00:01<00:00, 64.38it/s]\n",
      "100%|██████████| 61/61 [00:00<00:00, 64.60it/s]\n",
      "100%|██████████| 111/111 [00:01<00:00, 64.49it/s]\n",
      "100%|██████████| 54/54 [00:00<00:00, 69.59it/s]\n",
      "100%|██████████| 45/45 [00:00<00:00, 64.97it/s]\n",
      "100%|██████████| 71/71 [00:01<00:00, 60.25it/s]\n",
      "100%|██████████| 52/52 [00:00<00:00, 65.04it/s]\n",
      "100%|██████████| 62/62 [00:00<00:00, 69.13it/s]\n",
      "100%|██████████| 117/117 [00:01<00:00, 64.29it/s]\n",
      "100%|██████████| 60/60 [00:00<00:00, 68.97it/s]\n",
      "100%|██████████| 109/109 [00:01<00:00, 64.68it/s]\n",
      "100%|██████████| 136/136 [00:02<00:00, 64.75it/s]\n",
      "100%|██████████| 75/75 [00:01<00:00, 65.08it/s]\n",
      "100%|██████████| 42/42 [00:00<00:00, 64.91it/s]\n",
      "100%|██████████| 30/30 [00:00<00:00, 64.85it/s]\n",
      "100%|██████████| 50/50 [00:00<00:00, 64.74it/s]\n",
      "100%|██████████| 12/12 [00:00<00:00, 63.21it/s]\n",
      "100%|██████████| 34/34 [00:00<00:00, 64.97it/s]\n",
      "100%|██████████| 12/12 [00:00<00:00, 64.95it/s]\n",
      "100%|██████████| 71/71 [00:01<00:00, 61.03it/s]\n",
      "100%|██████████| 56/56 [00:00<00:00, 64.59it/s]\n",
      "100%|██████████| 43/43 [00:00<00:00, 64.98it/s]\n",
      "100%|██████████| 44/44 [00:00<00:00, 64.45it/s]\n",
      "100%|██████████| 88/88 [00:01<00:00, 64.06it/s]\n",
      "100%|██████████| 52/52 [00:00<00:00, 64.39it/s]\n",
      "100%|██████████| 116/116 [00:01<00:00, 64.67it/s]\n",
      "100%|██████████| 97/97 [00:01<00:00, 65.05it/s]\n",
      "100%|██████████| 56/56 [00:00<00:00, 64.93it/s]\n",
      "100%|██████████| 115/115 [00:01<00:00, 64.52it/s]\n",
      "100%|██████████| 45/45 [00:00<00:00, 64.97it/s]\n",
      "100%|██████████| 50/50 [00:00<00:00, 65.57it/s]\n",
      "100%|██████████| 118/118 [00:01<00:00, 65.01it/s]\n",
      "100%|██████████| 105/105 [00:01<00:00, 64.97it/s]\n",
      "100%|██████████| 55/55 [00:00<00:00, 65.11it/s]\n",
      "100%|██████████| 54/54 [00:00<00:00, 65.04it/s]\n",
      "100%|██████████| 50/50 [00:00<00:00, 64.02it/s]\n",
      "100%|██████████| 25/25 [00:00<00:00, 64.98it/s]\n",
      "100%|██████████| 179/179 [00:02<00:00, 64.85it/s]\n",
      "100%|██████████| 90/90 [00:01<00:00, 65.00it/s]\n",
      "100%|██████████| 112/112 [00:01<00:00, 61.05it/s]\n",
      "100%|██████████| 163/163 [00:02<00:00, 61.08it/s]\n",
      "100%|██████████| 109/109 [00:01<00:00, 64.71it/s]\n",
      "100%|██████████| 51/51 [00:00<00:00, 61.20it/s]\n",
      "100%|██████████| 78/78 [00:01<00:00, 64.56it/s]\n",
      "100%|██████████| 114/114 [00:01<00:00, 64.78it/s]\n",
      "100%|██████████| 83/83 [00:01<00:00, 65.01it/s]\n",
      "100%|██████████| 52/52 [00:00<00:00, 64.44it/s]\n",
      "100%|██████████| 119/119 [00:01<00:00, 86.95it/s]\n",
      "100%|██████████| 63/63 [00:00<00:00, 72.44it/s]\n",
      "100%|██████████| 39/39 [00:00<00:00, 64.84it/s]\n",
      "100%|██████████| 49/49 [00:00<00:00, 64.51it/s]\n",
      "100%|██████████| 68/68 [00:01<00:00, 64.27it/s]\n",
      "100%|██████████| 72/72 [01:37<00:00,  1.36s/it]\n"
     ]
    },
    {
     "name": "stdout",
     "output_type": "stream",
     "text": [
      "Minimum object size of the `3D_Brain_organoids_with_meta` dataset is equal to 1\n",
      "Mean object size of the `3D_Brain_organoids_with_meta` dataset is equal to 2087.5304273504275\n",
      "Maximum object size of the `3D_Brain_organoids_with_meta` dataset is equal to 10610\n",
      "Average object size of the `3D_Brain_organoids_with_meta` dataset along `x` is equal to 25.333\n",
      "Std. dev object size of the `3D_Brain_organoids_with_meta` dataset along `x` is equal to 15.180\n",
      "Average object size of the `3D_Brain_organoids_with_meta` dataset along `y` is equal to 26.001\n",
      "Std. dev object size of the `3D_Brain_organoids_with_meta` dataset along `y` is equal to 15.584\n",
      "Average object size of the `3D_Brain_organoids_with_meta` dataset along `z` is equal to 8.188\n",
      "Std. dev object size of the `3D_Brain_organoids_with_meta` dataset along `z` is equal to 5.281\n"
     ]
    },
    {
     "name": "stderr",
     "output_type": "stream",
     "text": [
      "100%|██████████| 1/1 [00:00<00:00, 17.96it/s]\n"
     ]
    },
    {
     "name": "stdout",
     "output_type": "stream",
     "text": [
      "Tile size of the `3D_Brain_organoids_with_meta` dataset set equal to  (n_z = 64, n_y = 304, n_x = 304)\n"
     ]
    },
    {
     "name": "stderr",
     "output_type": "stream",
     "text": [
      "100%|██████████| 72/72 [00:04<00:00, 16.68it/s]"
     ]
    },
    {
     "name": "stdout",
     "output_type": "stream",
     "text": [
      "Average background intensity of the `3D_Brain_organoids_with_meta` dataset set equal to 21.728\n",
      "Dataset properies of the `3D_Brain_organoids_with_meta` dataset is saved to `data_properties.json`\n"
     ]
    },
    {
     "name": "stderr",
     "output_type": "stream",
     "text": [
      "\n"
     ]
    }
   ],
   "source": [
    "data_properties_dir = get_data_properties(\n",
    "    data_dir,\n",
    "    project_name,\n",
    "    train_val_name=[\"train\", \"val\"],\n",
    "    test_name=[\"test\"],\n",
    "    mode=\"3d\",\n",
    ")\n",
    "\n",
    "data_properties_dir[\"data_type\"] = \"16-bit\"\n",
    "data_properties_dir[\"pixel_size_x_microns\"] = (\n",
    "    0.347 * 2\n",
    ")  # set equal to voxel size (microns) in x dimension\n",
    "data_properties_dir[\"pixel_size_y_microns\"] = (\n",
    "    0.347 * 2\n",
    ")  # set equal to voxel size (microns) in y dimension\n",
    "data_properties_dir[\"pixel_size_z_microns\"] = (\n",
    "    2.0  # set equal to voxel size (microns) in z dimension\n",
    ")\n",
    "\n",
    "# set the following to the region which shouldn't be considered during evaluation.\n",
    "# If the entire evaluation image was annotated, then comment the next six lines!\n",
    "# data_properties_dir['mask_start_x']= 231\n",
    "# data_properties_dir['mask_end_x']= 408\n",
    "# data_properties_dir['mask_start_y']= 0\n",
    "# data_properties_dir['mask_end_y']= 152\n",
    "# data_properties_dir['mask_start_z']= 51\n",
    "# data_properties_dir['mask_end_z']= 72\n",
    "\n",
    "\n",
    "with open(f\"data_properties_{run_name}.json\", \"w\") as outfile:\n",
    "    json.dump(data_properties_dir, outfile)\n",
    "    print(\n",
    "        \"Dataset properies of the `{}` dataset is saved to `data_properties.json`\".format(\n",
    "            project_name\n",
    "        )\n",
    "    )"
   ]
  },
  {
   "cell_type": "markdown",
   "metadata": {},
   "source": [
    "### Specify desired centre location for spatial embedding of pixels"
   ]
  },
  {
   "cell_type": "markdown",
   "metadata": {},
   "source": [
    "Interior pixels of an object instance can either be embedded at the `centroid` (evaluated in $\\mathcal{O(n)}$ operations, where $\\mathcal{n}$ is the number of pixels in an object instance), or the `medoid` (evaluated in $\\mathcal{O(n^{2})}$ operations). Please note that evaluating `medoid` of the instances could be slow especially if you choose a large `crop_size` later: in such a scenario, a quicker alternative is opting for a higher <b><a href='#speed_up'>`speed_up`</a></b> factor."
   ]
  },
  {
   "cell_type": "code",
   "execution_count": 4,
   "metadata": {},
   "outputs": [
    {
     "name": "stdout",
     "output_type": "stream",
     "text": [
      "Spatial Embedding Location chosen as : medoid\n"
     ]
    }
   ],
   "source": [
    "center = \"medoid\"  # 'medoid', 'centroid'\n",
    "try:\n",
    "    assert center in {\"medoid\", \"centroid\"}\n",
    "    print(\"Spatial Embedding Location chosen as : {}\".format(center))\n",
    "except AssertionError as e:\n",
    "    e.args += ('Please specify center as one of : {\"medoid\", \"centroid\"}', 42)\n",
    "    raise"
   ]
  },
  {
   "cell_type": "markdown",
   "metadata": {},
   "source": [
    "### Specify cropping configuration parameters"
   ]
  },
  {
   "cell_type": "markdown",
   "metadata": {},
   "source": [
    "Images and the corresponding masks are cropped into patches centred around an object instance, which are pre-saved prior to initiating the training. Note that the cropped images, masks and center-images would be saved at the path specified by `crops_dir` (The parameter `crops_dir` is set to ```./crops``` by default, which creates a directory at the same location as this notebook). Here, `data_subset` defines the directory which is processed. \n",
    "\n",
    "Note that we automatically calculate  the `crop_size` by using the `avg_object_size` and `std_object_size` through the relation:\n",
    "$\\text{crop_size_i} = \\text{avg_obj_size_i} + \\text{n_sigma} \\times \\text{std_obj_size_i}$ where $i \\in \\{x,y,z\\}$ and `n_sigma` equals `5` by default.\n",
    "\n",
    "Please feel free to reduce the parameter `n_sigma` to be equal to `3-4` in case of lower GPU memory. "
   ]
  },
  {
   "cell_type": "code",
   "execution_count": 5,
   "metadata": {},
   "outputs": [],
   "source": [
    "n_sigma = 4"
   ]
  },
  {
   "cell_type": "code",
   "execution_count": 6,
   "metadata": {},
   "outputs": [],
   "source": [
    "def round_up_8(x):\n",
    "    return (x.astype(int) + 7) & (-8)"
   ]
  },
  {
   "cell_type": "code",
   "execution_count": 7,
   "metadata": {},
   "outputs": [
    {
     "name": "stdout",
     "output_type": "stream",
     "text": [
      "Crop size in x and y will be set equal to 88. Crop size in z is set equal to 32\n"
     ]
    }
   ],
   "source": [
    "crops_dir = data_dir + \"/\" + project_name + f\"/crops_{run_name}\"\n",
    "data_subsets = [\"train\", \"val\"]\n",
    "crop_size_z = round_up_8(\n",
    "    data_properties_dir[\"avg_object_size_z\"]\n",
    "    + n_sigma * data_properties_dir[\"stdev_object_size_z\"]\n",
    ")\n",
    "crop_size_y = np.maximum(\n",
    "    round_up_8(\n",
    "        data_properties_dir[\"avg_object_size_y\"]\n",
    "        + n_sigma * data_properties_dir[\"stdev_object_size_y\"]\n",
    "    ),\n",
    "    round_up_8(\n",
    "        data_properties_dir[\"avg_object_size_x\"]\n",
    "        + n_sigma * data_properties_dir[\"stdev_object_size_x\"]\n",
    "    ),\n",
    ")\n",
    "crop_size_x = crop_size_y\n",
    "print(\n",
    "    \"Crop size in x and y will be set equal to {}. Crop size in z is set equal to {}\".format(\n",
    "        crop_size_x, crop_size_z\n",
    "    )\n",
    ")"
   ]
  },
  {
   "cell_type": "markdown",
   "metadata": {},
   "source": [
    "The `anisotropy_factor` is set equal to the ratio of voxel sizes in z to voxel sizes in x or y. <br>\n",
    "\n",
    "In case, there are out-of-memory issues or cropping takes too long, please try increasing the <b>`speed_up`</b> parameter by steps of 1. "
   ]
  },
  {
   "cell_type": "markdown",
   "metadata": {},
   "source": [
    "### Generate Crops"
   ]
  },
  {
   "cell_type": "markdown",
   "metadata": {},
   "source": [
    "<div class=\"alert alert-block alert-warning\"> \n",
    "    The cropped images and masks are saved at the same-location as the example notebooks. <br>\n",
    "    Generating the crops would take a little while!\n",
    "</div>"
   ]
  },
  {
   "cell_type": "markdown",
   "metadata": {},
   "source": [
    "While cropping images, we normalize them by following any one of three strategies: \n",
    "\n",
    "(i) `min-max-percentile` (default) \n",
    "(ii) `mean-std` \n",
    "(iii) `absolute` "
   ]
  },
  {
   "cell_type": "code",
   "execution_count": 9,
   "metadata": {},
   "outputs": [
    {
     "name": "stdout",
     "output_type": "stream",
     "text": [
      "Normalization chosen as : min-max-percentile\n"
     ]
    }
   ],
   "source": [
    "norm = \"min-max-percentile\"\n",
    "try:\n",
    "    assert norm in {\"min-max-percentile\", \"mean-std\", \"absolute\"}\n",
    "    print(\"Normalization chosen as : {}\".format(norm))\n",
    "except AssertionError as e:\n",
    "    e.args += (\n",
    "        'Please specify norm as one of : {\"min-max-percentile\", \"mean-std\", \"absolute\"}',\n",
    "        42,\n",
    "    )\n",
    "    raise"
   ]
  },
  {
   "cell_type": "code",
   "execution_count": 10,
   "metadata": {},
   "outputs": [
    {
     "data": {
      "text/plain": [
       "'/cluster/project/treutlein/DATA/imaging/EmbedSeg_test/data//3D_Brain_organoids_with_meta/crops_all_06_02_2023_test'"
      ]
     },
     "execution_count": 10,
     "metadata": {},
     "output_type": "execute_result"
    }
   ],
   "source": [
    "crops_dir"
   ]
  },
  {
   "cell_type": "code",
   "execution_count": 11,
   "metadata": {},
   "outputs": [
    {
     "name": "stderr",
     "output_type": "stream",
     "text": [
      "100%|██████████| 67/67 [04:36<00:00,  4.12s/it]\n"
     ]
    },
    {
     "name": "stdout",
     "output_type": "stream",
     "text": [
      "Cropping of images, instances and centre_images for data_subset = `train` done!\n"
     ]
    },
    {
     "name": "stderr",
     "output_type": "stream",
     "text": [
      "100%|██████████| 5/5 [00:15<00:00,  3.12s/it]"
     ]
    },
    {
     "name": "stdout",
     "output_type": "stream",
     "text": [
      "Cropping of images, instances and centre_images for data_subset = `val` done!\n"
     ]
    },
    {
     "name": "stderr",
     "output_type": "stream",
     "text": [
      "\n"
     ]
    }
   ],
   "source": [
    "for data_subset in data_subsets:\n",
    "    image_dir = os.path.join(data_dir, project_name, data_subset, \"images\")\n",
    "    instance_dir = os.path.join(data_dir, project_name, data_subset, \"masks\")\n",
    "    image_names = sorted(glob(os.path.join(image_dir, \"*.tif\")))\n",
    "    instance_names = sorted(glob(os.path.join(instance_dir, \"*.tif\")))\n",
    "    for i in tqdm(np.arange(len(image_names))):\n",
    "        process_3d(\n",
    "            image_names[i],\n",
    "            instance_names[i],\n",
    "            os.path.join(crops_dir, project_name),\n",
    "            data_subset,\n",
    "            crop_size_x=crop_size_x,\n",
    "            crop_size_y=crop_size_y,\n",
    "            crop_size_z=crop_size_z,\n",
    "            center=center,\n",
    "            anisotropy_factor=anisotropy_factor,\n",
    "            speed_up=speed_up,\n",
    "            norm=norm,\n",
    "            data_type=data_properties_dir[\"data_type\"],\n",
    "        )\n",
    "    print(\n",
    "        \"Cropping of images, instances and centre_images for data_subset = `{}` done!\".format(\n",
    "            data_subset\n",
    "        )\n",
    "    )"
   ]
  },
  {
   "cell_type": "markdown",
   "metadata": {},
   "source": [
    "### Save `norm` in `normalization.json` file "
   ]
  },
  {
   "cell_type": "code",
   "execution_count": 12,
   "metadata": {},
   "outputs": [
    {
     "name": "stdout",
     "output_type": "stream",
     "text": [
      "Normalization properties of the `3D_Brain_organoids_with_meta` dataset is saved to `normalization.json`\n"
     ]
    }
   ],
   "source": [
    "normalization = {}\n",
    "normalization[\"data_type\"] = data_properties_dir[\"data_type\"]\n",
    "normalization[\"norm\"] = norm\n",
    "with open(f\"normalization_{run_name}.json\", \"w\") as outfile:\n",
    "    json.dump(normalization, outfile)\n",
    "    print(\n",
    "        \"Normalization properties of the `{}` dataset is saved to `normalization.json`\".format(\n",
    "            project_name\n",
    "        )\n",
    "    )"
   ]
  },
  {
   "cell_type": "markdown",
   "metadata": {},
   "source": [
    "### Visualize cropped images, corresponding ground truth masks and object center images "
   ]
  },
  {
   "cell_type": "code",
   "execution_count": 13,
   "metadata": {},
   "outputs": [
    {
     "data": {
      "image/png": "[encoded data removed]",
      "text/plain": [
       "<Figure size 864x720 with 9 Axes>"
      ]
     },
     "metadata": {
      "needs_background": "light"
     },
     "output_type": "display_data"
    }
   ],
   "source": [
    "new_cmap = np.load(\"../../../cmaps/cmap_60.npy\")\n",
    "new_cmap = ListedColormap(new_cmap)  # new_cmap = 'magma' would also work!\n",
    "visualize_crop_3d(\n",
    "    data_dir=crops_dir,\n",
    "    project_name=project_name,\n",
    "    train_val_dir=\"train\",\n",
    "    center=center,\n",
    "    new_cmp=new_cmap,\n",
    "    anisotropy=anisotropy_factor,\n",
    ")"
   ]
  },
  {
   "cell_type": "code",
   "execution_count": 14,
   "metadata": {},
   "outputs": [
    {
     "data": {
      "text/plain": [
       "'/cluster/project/treutlein/DATA/imaging/EmbedSeg_test/data//3D_Brain_organoids_with_meta/crops_all_06_02_2023_test'"
      ]
     },
     "execution_count": 14,
     "metadata": {},
     "output_type": "execute_result"
    }
   ],
   "source": [
    "crops_dir"
   ]
  },
  {
   "cell_type": "code",
   "execution_count": null,
   "metadata": {},
   "outputs": [],
   "source": []
  },
  {
   "cell_type": "code",
   "execution_count": null,
   "metadata": {},
   "outputs": [],
   "source": []
  }
 ],
 "metadata": {
  "kernelspec": {
   "display_name": "Python (EmbedSeg)",
   "language": "python",
   "name": "embedsegenv"
  },
  "language_info": {
   "codemirror_mode": {
    "name": "ipython",
    "version": 3
   },
   "file_extension": ".py",
   "mimetype": "text/x-python",
   "name": "python",
   "nbconvert_exporter": "python",
   "pygments_lexer": "ipython3",
   "version": "3.7.0"
  },
  "toc": {
   "base_numbering": 1,
   "nav_menu": {},
   "number_sections": true,
   "sideBar": false,
   "skip_h1_title": false,
   "title_cell": "Table of Contents",
   "title_sidebar": "Contents",
   "toc_cell": false,
   "toc_position": {},
   "toc_section_display": true,
   "toc_window_display": false
  }
 },
 "nbformat": 4,
 "nbformat_minor": 4
}
