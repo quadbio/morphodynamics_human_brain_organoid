{
 "cells": [
  {
   "cell_type": "code",
   "execution_count": 1,
   "id": "db987231-85eb-4a5e-b3c0-c03741164c31",
   "metadata": {},
   "outputs": [],
   "source": [
    "import os\n",
    "\n",
    "import matplotlib as mpl\n",
    "import numpy as np\n",
    "\n",
    "# from cellpose import plot\n",
    "\n",
    "\n",
    "%matplotlib inline\n",
    "mpl.rcParams[\"figure.dpi\"] = 300\n",
    "\n",
    "\n",
    "np.random.seed(0)\n",
    "\n",
    "\n",
    "import numpy as np\n",
    "from skimage import data"
   ]
  },
  {
   "cell_type": "code",
   "execution_count": 2,
   "id": "00bb4e3f-3741-4762-b9c8-130e2ffb810b",
   "metadata": {},
   "outputs": [
    {
     "data": {
      "text/plain": [
       "'1.7.3'"
      ]
     },
     "execution_count": 2,
     "metadata": {},
     "output_type": "execute_result"
    }
   ],
   "source": [
    "import scipy\n",
    "\n",
    "scipy.__version__"
   ]
  },
  {
   "cell_type": "code",
   "execution_count": 2,
   "id": "391ba09d",
   "metadata": {},
   "outputs": [],
   "source": [
    "# input_dir=\"/cluster/work/treutlein/DATA/imaging/viventis/20210518_181629_Act-GFP_TubRFP_Cysts/\""
   ]
  },
  {
   "cell_type": "code",
   "execution_count": 3,
   "id": "4c5860e1-4bc5-4e95-a554-1b03a08f4b54",
   "metadata": {},
   "outputs": [],
   "source": [
    "import json\n",
    "import os\n",
    "\n",
    "import ipywidgets as widgets\n",
    "from jupyter_bbox_widget import BBoxWidget"
   ]
  },
  {
   "cell_type": "code",
   "execution_count": 5,
   "id": "674153e3",
   "metadata": {},
   "outputs": [],
   "source": [
    "# annotation_run=70\n",
    "annotation_run = 1\n",
    "run_name = f\"Run_{annotation_run}\"\n",
    "slice_dir = f\"annotation_slices/AGAR/{run_name}/\"\n",
    "# slice_dir=f'annotation_slices/MultiMosaic/{run_name}/'"
   ]
  },
  {
   "cell_type": "code",
   "execution_count": 6,
   "id": "838159c1",
   "metadata": {},
   "outputs": [],
   "source": [
    "annotations_path = f\"{slice_dir}annotations.json\""
   ]
  },
  {
   "cell_type": "code",
   "execution_count": 7,
   "id": "8da68c08",
   "metadata": {},
   "outputs": [],
   "source": [
    "# path = f'annotation_slices/{run_name}/'\n",
    "files = sorted(os.listdir(slice_dir))\n",
    "\n",
    "annotations = {}"
   ]
  },
  {
   "cell_type": "code",
   "execution_count": 8,
   "id": "32b54c3d",
   "metadata": {},
   "outputs": [
    {
     "data": {
      "application/vnd.jupyter.widget-view+json": {
       "model_id": "a1f0266b625a4c0788c9860271a29f9d",
       "version_major": 2,
       "version_minor": 0
      },
      "text/plain": [
       "VBox(children=(IntProgress(value=0, description='Progress', max=8), BBoxWidget(classes=['organoid', 'backgroun…"
      ]
     },
     "metadata": {},
     "output_type": "display_data"
    }
   ],
   "source": [
    "# a progress bar to show how far we got\n",
    "w_progress = widgets.IntProgress(value=0, max=len(files), description=\"Progress\")\n",
    "# the bbox widget\n",
    "w_bbox = BBoxWidget(\n",
    "    image=os.path.join(slice_dir, files[0]), classes=[\"organoid\", \"background\", \"lumen\"]\n",
    ")\n",
    "\n",
    "\n",
    "from pathlib import Path\n",
    "\n",
    "my_file = Path(annotations_path)\n",
    "if my_file.is_file():\n",
    "    f = open(annotations_path)\n",
    "    data = json.load(f)\n",
    "    json_availible = True\n",
    "else:\n",
    "    json_availible = False\n",
    "# combine widgets into a container\n",
    "w_container = widgets.VBox(\n",
    "    [\n",
    "        w_progress,\n",
    "        w_bbox,\n",
    "    ]\n",
    ")\n",
    "\n",
    "# when Skip button is pressed we move on to the next file\n",
    "\n",
    "\n",
    "def on_skip():\n",
    "    w_progress.value += 1\n",
    "    # open new image in the widget\n",
    "    image_file = files[w_progress.value]\n",
    "    w_bbox.image = os.path.join(slice_dir, image_file)\n",
    "    # here we assign an empty list to bboxes but\n",
    "    # we could also run a detection model on the file\n",
    "    # and use its output for creating inital bboxes\n",
    "    if json_availible:\n",
    "        try:\n",
    "            w_bbox.bboxes = data[image_file]\n",
    "        except:\n",
    "            w_bbox.bboxes = []\n",
    "    else:\n",
    "        w_bbox.bboxes = []\n",
    "\n",
    "\n",
    "w_bbox.on_skip(on_skip)\n",
    "\n",
    "# when Submit button is pressed we save current annotations\n",
    "# and then move on to the next file\n",
    "\n",
    "\n",
    "def on_submit():\n",
    "    image_file = files[w_progress.value]\n",
    "    # save annotations for current image\n",
    "    annotations[image_file] = w_bbox.bboxes\n",
    "    with open(annotations_path, \"w\") as f:\n",
    "        json.dump(annotations, f, indent=4)\n",
    "    # move on to the next file\n",
    "    on_skip()\n",
    "\n",
    "\n",
    "w_bbox.on_submit(on_submit)\n",
    "w_container"
   ]
  },
  {
   "cell_type": "code",
   "execution_count": null,
   "id": "898a2321",
   "metadata": {},
   "outputs": [],
   "source": []
  },
  {
   "cell_type": "code",
   "execution_count": null,
   "id": "04f95a45",
   "metadata": {},
   "outputs": [],
   "source": []
  }
 ],
 "metadata": {
  "kernelspec": {
   "display_name": "aydin_env",
   "language": "python",
   "name": "aydin_env"
  },
  "language_info": {
   "codemirror_mode": {
    "name": "ipython",
    "version": 3
   },
   "file_extension": ".py",
   "mimetype": "text/x-python",
   "name": "python",
   "nbconvert_exporter": "python",
   "pygments_lexer": "ipython3",
   "version": "3.9.7"
  }
 },
 "nbformat": 4,
 "nbformat_minor": 5
}
