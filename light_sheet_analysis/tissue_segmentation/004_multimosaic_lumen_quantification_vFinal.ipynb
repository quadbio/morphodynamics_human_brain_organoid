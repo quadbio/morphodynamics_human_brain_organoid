{
 "cells": [
  {
   "cell_type": "code",
   "execution_count": 1,
   "id": "db987231-85eb-4a5e-b3c0-c03741164c31",
   "metadata": {},
   "outputs": [],
   "source": [
    "import os\n",
    "\n",
    "import matplotlib as mpl\n",
    "import matplotlib.pyplot as plt\n",
    "import numpy as np\n",
    "import seaborn as sns\n",
    "import skimage.io\n",
    "from matplotlib import cm\n",
    "\n",
    "%matplotlib inline\n",
    "mpl.rcParams[\"figure.dpi\"] = 300\n",
    "import pandas as pd\n",
    "import skimage\n",
    "import skimage.io\n",
    "from tqdm.notebook import tqdm\n",
    "\n",
    "np.random.seed(0)\n",
    "\n",
    "import os\n",
    "import os.path\n",
    "\n",
    "import h5py\n",
    "from skimage.io import imread"
   ]
  },
  {
   "cell_type": "code",
   "execution_count": 2,
   "id": "e018999a",
   "metadata": {},
   "outputs": [],
   "source": [
    "positions = [1, 2, 3, 4, 5, 6, 7, 8, 9, 10, 11, 12, 13, 14, 15, 16]"
   ]
  },
  {
   "cell_type": "code",
   "execution_count": 21,
   "id": "3a787f55",
   "metadata": {},
   "outputs": [
    {
     "data": {
      "application/vnd.jupyter.widget-view+json": {
       "model_id": "2fcb827d573d414c85f36378133c39bf",
       "version_major": 2,
       "version_minor": 0
      },
      "text/plain": [
       "  0%|          | 0/16 [00:00<?, ?it/s]"
      ]
     },
     "metadata": {},
     "output_type": "display_data"
    },
    {
     "name": "stdout",
     "output_type": "stream",
     "text": [
      "False\n",
      "/cluster/project/treutlein/DATA/imaging/viventis/20210503_201032_6_lines_mosaic_HB4_D4_processed/Position_4_Settings_1_Processed/lumen_masks_v19_05_2023/0086_lumen_organoid_mask_processed.tif\n",
      "False\n",
      "/cluster/project/treutlein/DATA/imaging/viventis/20210503_201032_6_lines_mosaic_HB4_D4_processed/Position_4_Settings_1_Processed/lumen_masks_v19_05_2023/0087_lumen_organoid_mask_processed.tif\n",
      "False\n",
      "/cluster/project/treutlein/DATA/imaging/viventis/20210503_201032_6_lines_mosaic_HB4_D4_processed/Position_4_Settings_1_Processed/lumen_masks_v19_05_2023/0088_lumen_organoid_mask_processed.tif\n",
      "False\n",
      "/cluster/project/treutlein/DATA/imaging/viventis/20210503_201032_6_lines_mosaic_HB4_D4_processed/Position_4_Settings_1_Processed/lumen_masks_v19_05_2023/0089_lumen_organoid_mask_processed.tif\n",
      "False\n",
      "/cluster/project/treutlein/DATA/imaging/viventis/20210503_201032_6_lines_mosaic_HB4_D4_processed/Position_4_Settings_1_Processed/lumen_masks_v19_05_2023/0090_lumen_organoid_mask_processed.tif\n",
      "False\n",
      "/cluster/project/treutlein/DATA/imaging/viventis/20210503_201032_6_lines_mosaic_HB4_D4_processed/Position_4_Settings_1_Processed/lumen_masks_v19_05_2023/0091_lumen_organoid_mask_processed.tif\n",
      "False\n",
      "/cluster/project/treutlein/DATA/imaging/viventis/20210503_201032_6_lines_mosaic_HB4_D4_processed/Position_4_Settings_1_Processed/lumen_masks_v19_05_2023/0092_lumen_organoid_mask_processed.tif\n",
      "False\n",
      "/cluster/project/treutlein/DATA/imaging/viventis/20210503_201032_6_lines_mosaic_HB4_D4_processed/Position_4_Settings_1_Processed/lumen_masks_v19_05_2023/0094_lumen_organoid_mask_processed.tif\n"
     ]
    }
   ],
   "source": [
    "for position in tqdm(positions):\n",
    "    output_dir_np_array = f\"/cluster/project/treutlein/DATA/imaging/viventis/20210503_201032_6_lines_mosaic_HB4_D4_processed/Position_{position}_Settings_1_Processed/organoid_measurements/\"\n",
    "    output_dir = f\"/cluster/project/treutlein/DATA/imaging/viventis/20210503_201032_6_lines_mosaic_HB4_D4_processed/Position_{position}_Settings_1_Processed/lumen_masks_v19_05_2023/\"\n",
    "    stack_file = h5py.File(\n",
    "        f\"/cluster/project/treutlein/DATA/imaging/viventis/20210503_201032_6_lines_mosaic_HB4_D4_processed/Position_{position}_Settings_1_Processed/denoised_registered_processed.h5\",\n",
    "        \"r\",\n",
    "    )\n",
    "\n",
    "    n_lumen = []\n",
    "    lumen_vol = []\n",
    "    organoid_vol = []\n",
    "    stacks = np.linspace(1, 250, 250, dtype=int)\n",
    "    thickness_largest_lumen = []\n",
    "    for stack in stacks:\n",
    "        hours = stack / 2\n",
    "        if not os.path.exists(\n",
    "            output_dir + f\"{stack:04}\" + \"_lumen_organoid_mask_processed.tif\"\n",
    "        ):\n",
    "            print(\n",
    "                os.path.exists(\n",
    "                    output_dir + f\"{stack:04}\" + \"_lumen_organoid_mask_processed.tif\"\n",
    "                )\n",
    "            )\n",
    "            print(output_dir + f\"{stack:04}\" + \"_lumen_organoid_mask_processed.tif\")"
   ]
  },
  {
   "cell_type": "code",
   "execution_count": 4,
   "id": "1e960dd2",
   "metadata": {
    "scrolled": true
   },
   "outputs": [
    {
     "data": {
      "application/vnd.jupyter.widget-view+json": {
       "model_id": "00ecd5068e3644f8bd0faa45c6d55e0e",
       "version_major": 2,
       "version_minor": 0
      },
      "text/plain": [
       "  0%|          | 0/16 [00:00<?, ?it/s]"
      ]
     },
     "metadata": {},
     "output_type": "display_data"
    },
    {
     "data": {
      "application/vnd.jupyter.widget-view+json": {
       "model_id": "9a36e996c9b14c78ae632d0f294176bf",
       "version_major": 2,
       "version_minor": 0
      },
      "text/plain": [
       "  0%|          | 0/125 [00:00<?, ?it/s]"
      ]
     },
     "metadata": {},
     "output_type": "display_data"
    },
    {
     "data": {
      "application/vnd.jupyter.widget-view+json": {
       "model_id": "c42f20f3e4964418a9ec1394bee3ac6c",
       "version_major": 2,
       "version_minor": 0
      },
      "text/plain": [
       "  0%|          | 0/125 [00:00<?, ?it/s]"
      ]
     },
     "metadata": {},
     "output_type": "display_data"
    },
    {
     "data": {
      "application/vnd.jupyter.widget-view+json": {
       "model_id": "c867b358c9db44eca4c1884e71b849f8",
       "version_major": 2,
       "version_minor": 0
      },
      "text/plain": [
       "  0%|          | 0/125 [00:00<?, ?it/s]"
      ]
     },
     "metadata": {},
     "output_type": "display_data"
    },
    {
     "data": {
      "application/vnd.jupyter.widget-view+json": {
       "model_id": "62df75004e4a4778bb8a1ad23bba0570",
       "version_major": 2,
       "version_minor": 0
      },
      "text/plain": [
       "  0%|          | 0/125 [00:00<?, ?it/s]"
      ]
     },
     "metadata": {},
     "output_type": "display_data"
    },
    {
     "data": {
      "application/vnd.jupyter.widget-view+json": {
       "model_id": "490f60a5c1f3468387502ff065504a5a",
       "version_major": 2,
       "version_minor": 0
      },
      "text/plain": [
       "  0%|          | 0/125 [00:00<?, ?it/s]"
      ]
     },
     "metadata": {},
     "output_type": "display_data"
    },
    {
     "data": {
      "application/vnd.jupyter.widget-view+json": {
       "model_id": "183f80682d644a99839524617a576139",
       "version_major": 2,
       "version_minor": 0
      },
      "text/plain": [
       "  0%|          | 0/125 [00:00<?, ?it/s]"
      ]
     },
     "metadata": {},
     "output_type": "display_data"
    },
    {
     "data": {
      "application/vnd.jupyter.widget-view+json": {
       "model_id": "11257395f2394558a7982f3e7432d455",
       "version_major": 2,
       "version_minor": 0
      },
      "text/plain": [
       "  0%|          | 0/125 [00:00<?, ?it/s]"
      ]
     },
     "metadata": {},
     "output_type": "display_data"
    },
    {
     "data": {
      "application/vnd.jupyter.widget-view+json": {
       "model_id": "b4893beea6b04ba5a8008d0c0557965a",
       "version_major": 2,
       "version_minor": 0
      },
      "text/plain": [
       "  0%|          | 0/125 [00:00<?, ?it/s]"
      ]
     },
     "metadata": {},
     "output_type": "display_data"
    },
    {
     "data": {
      "application/vnd.jupyter.widget-view+json": {
       "model_id": "823d4d35ff774c26b82d248eabb98780",
       "version_major": 2,
       "version_minor": 0
      },
      "text/plain": [
       "  0%|          | 0/125 [00:00<?, ?it/s]"
      ]
     },
     "metadata": {},
     "output_type": "display_data"
    },
    {
     "data": {
      "application/vnd.jupyter.widget-view+json": {
       "model_id": "a16c73700fa74159bea32573cce5a607",
       "version_major": 2,
       "version_minor": 0
      },
      "text/plain": [
       "  0%|          | 0/125 [00:00<?, ?it/s]"
      ]
     },
     "metadata": {},
     "output_type": "display_data"
    },
    {
     "data": {
      "application/vnd.jupyter.widget-view+json": {
       "model_id": "16ca2c132fd54c06a4abbf1734367d61",
       "version_major": 2,
       "version_minor": 0
      },
      "text/plain": [
       "  0%|          | 0/125 [00:00<?, ?it/s]"
      ]
     },
     "metadata": {},
     "output_type": "display_data"
    },
    {
     "data": {
      "application/vnd.jupyter.widget-view+json": {
       "model_id": "584ec8bb8f5c448faaf97cd242a9f52e",
       "version_major": 2,
       "version_minor": 0
      },
      "text/plain": [
       "  0%|          | 0/125 [00:00<?, ?it/s]"
      ]
     },
     "metadata": {},
     "output_type": "display_data"
    },
    {
     "data": {
      "application/vnd.jupyter.widget-view+json": {
       "model_id": "14a674dc7e804f8c9e40526a9158568b",
       "version_major": 2,
       "version_minor": 0
      },
      "text/plain": [
       "  0%|          | 0/125 [00:00<?, ?it/s]"
      ]
     },
     "metadata": {},
     "output_type": "display_data"
    },
    {
     "data": {
      "application/vnd.jupyter.widget-view+json": {
       "model_id": "87f3ba241fa448a2ac8c6fd5182f586b",
       "version_major": 2,
       "version_minor": 0
      },
      "text/plain": [
       "  0%|          | 0/125 [00:00<?, ?it/s]"
      ]
     },
     "metadata": {},
     "output_type": "display_data"
    },
    {
     "data": {
      "application/vnd.jupyter.widget-view+json": {
       "model_id": "7c6579763dfa4cb0a635ac1d6b97a72c",
       "version_major": 2,
       "version_minor": 0
      },
      "text/plain": [
       "  0%|          | 0/125 [00:00<?, ?it/s]"
      ]
     },
     "metadata": {},
     "output_type": "display_data"
    },
    {
     "data": {
      "application/vnd.jupyter.widget-view+json": {
       "model_id": "348bc079a0e7403383227ca7062a4dc9",
       "version_major": 2,
       "version_minor": 0
      },
      "text/plain": [
       "  0%|          | 0/125 [00:00<?, ?it/s]"
      ]
     },
     "metadata": {},
     "output_type": "display_data"
    }
   ],
   "source": [
    "all_n_lumen = []\n",
    "all_lumen_vol = []\n",
    "all_organoid_vol = []\n",
    "all_thickness_largest_lumen = []\n",
    "for position in tqdm(positions):\n",
    "    output_dir_np_array = f\"/cluster/project/treutlein/DATA/imaging/viventis/20210503_201032_6_lines_mosaic_HB4_D4_processed/Position_{position}_Settings_1_Processed/organoid_measurements/\"\n",
    "    output_dir = f\"/cluster/project/treutlein/DATA/imaging/viventis/20210503_201032_6_lines_mosaic_HB4_D4_processed/Position_{position}_Settings_1_Processed/lumen_masks_v19_05_2023/\"\n",
    "    stack_file = h5py.File(\n",
    "        f\"/cluster/project/treutlein/DATA/imaging/viventis/20210503_201032_6_lines_mosaic_HB4_D4_processed/Position_{position}_Settings_1_Processed/denoised_registered_processed.h5\",\n",
    "        \"r\",\n",
    "    )\n",
    "\n",
    "    n_lumen = []\n",
    "    lumen_vol = []\n",
    "    organoid_vol = []\n",
    "    stacks = np.linspace(1, 249, 125, dtype=int)\n",
    "    thickness_largest_lumen = []\n",
    "    for stack in tqdm(stacks):\n",
    "        if not os.path.exists(\n",
    "            output_dir + f\"{stack:04}\" + \"_lumen_organoid_mask_processed.tif\"\n",
    "        ):\n",
    "            n_lumen.append([stack / 2, np.nan])\n",
    "            lumen_vol.append([stack / 2, np.nan])\n",
    "            organoid_vol.append([stack / 2, np.nan])\n",
    "        else:\n",
    "            combined_masks = imread(\n",
    "                output_dir + f\"{stack:04}\" + \"_lumen_organoid_mask_processed.tif\"\n",
    "            )\n",
    "\n",
    "            # Get lumen and organoid masks, remove lumen smaller that 20'000 mum^3\n",
    "            lumen_mask = skimage.morphology.remove_small_objects(\n",
    "                (combined_masks == 3), min_size=20000 / (0.347 * 0.347 * 2 * 4 * 4)\n",
    "            )\n",
    "            organoid_mask = (combined_masks >= 2).astype(int)\n",
    "            # Number of Lumen\n",
    "            label_img, num_labels = skimage.measure.label(lumen_mask, return_num=True)\n",
    "\n",
    "            # Size of Lumen\n",
    "            lumen_volume = np.count_nonzero(lumen_mask) * 0.347 * 0.347 * 2 * 4 * 4\n",
    "            organoid_volume = (\n",
    "                np.count_nonzero(np.asarray(organoid_mask)) * 0.347 * 0.347 * 2 * 4 * 4\n",
    "            )\n",
    "\n",
    "            n_lumen.append([stack / 2, num_labels])\n",
    "            lumen_vol.append([stack / 2, lumen_volume])\n",
    "            organoid_vol.append([stack / 2, organoid_volume])\n",
    "\n",
    "    import os\n",
    "\n",
    "    if not os.path.exists(output_dir_np_array):\n",
    "        os.makedirs(output_dir_np_array)\n",
    "\n",
    "    with open(\n",
    "        output_dir_np_array + \"organoid_measurements_multimosaic_v19_05_23.npy\", \"wb\"\n",
    "    ) as f:\n",
    "        np.save(\n",
    "            f,\n",
    "            np.asarray(\n",
    "                [n_lumen, lumen_vol, organoid_vol, thickness_largest_lumen],\n",
    "                dtype=object,\n",
    "            ),\n",
    "        )\n",
    "\n",
    "    all_n_lumen.append(n_lumen)\n",
    "    all_lumen_vol.append(lumen_vol)\n",
    "    all_organoid_vol.append(organoid_vol)\n",
    "    all_thickness_largest_lumen.append(thickness_largest_lumen)"
   ]
  },
  {
   "cell_type": "code",
   "execution_count": 3,
   "id": "cd05ab2c",
   "metadata": {},
   "outputs": [
    {
     "data": {
      "application/vnd.jupyter.widget-view+json": {
       "model_id": "99c8c941eb34413a860f76717943c938",
       "version_major": 2,
       "version_minor": 0
      },
      "text/plain": [
       "  0%|          | 0/16 [00:00<?, ?it/s]"
      ]
     },
     "metadata": {},
     "output_type": "display_data"
    }
   ],
   "source": [
    "all_n_lumen = []\n",
    "all_lumen_vol = []\n",
    "all_organoid_vol = []\n",
    "all_thickness_largest_lumen = []\n",
    "positions = [1, 2, 3, 4, 5, 6, 7, 8, 9, 10, 11, 12, 13, 14, 15, 16]\n",
    "for position in tqdm(positions):\n",
    "    output_dir_np_array = f\"/cluster/project/treutlein/DATA/imaging/viventis/20210503_201032_6_lines_mosaic_HB4_D4_processed/Position_{position}_Settings_1_Processed/organoid_measurements/\"\n",
    "    with open(\n",
    "        output_dir_np_array + \"organoid_measurements_multimosaic_v19_05_23.npy\", \"rb\"\n",
    "    ) as f:\n",
    "        save_numpy = np.load(f, allow_pickle=True)\n",
    "    all_n_lumen.append(save_numpy[0])\n",
    "    all_lumen_vol.append(save_numpy[1])\n",
    "    all_organoid_vol.append(save_numpy[2])\n",
    "    all_thickness_largest_lumen.append(save_numpy[3])\n",
    "\n",
    "all_n_lumen = np.asarray(all_n_lumen)[:, ::1]\n",
    "all_lumen_vol = np.asarray(all_lumen_vol)[:, ::1]\n",
    "all_organoid_vol = np.asarray(all_organoid_vol)[:, ::1]\n",
    "all_n_lumen[:, :, 0] = all_n_lumen[:, :, 0] - 0.5\n",
    "all_lumen_vol[:, :, 0] = all_lumen_vol[:, :, 0] - 0.5\n",
    "all_organoid_vol[:, :, 0] = all_organoid_vol[:, :, 0] - 0.5\n",
    "\n",
    "# Black out position 2 after hour 50\n",
    "all_n_lumen[1][50:, 1] = np.nan\n",
    "all_lumen_vol[1][50:, 1] = np.nan\n",
    "all_organoid_vol[1][50:, 1] = np.nan\n",
    "\n",
    "# Add np.nans for position 4 between hours 43 and 49\n",
    "all_n_lumen[3][43:49, 1] = np.nan\n",
    "all_lumen_vol[3][43:49, 1] = np.nan\n",
    "all_organoid_vol[3][43:49, 1] = np.nan"
   ]
  }
 ],
 "metadata": {
  "kernelspec": {
   "display_name": "aydin_env",
   "language": "python",
   "name": "aydin_env"
  },
  "language_info": {
   "codemirror_mode": {
    "name": "ipython",
    "version": 3
   },
   "file_extension": ".py",
   "mimetype": "text/x-python",
   "name": "python",
   "nbconvert_exporter": "python",
   "pygments_lexer": "ipython3",
   "version": "3.9.7"
  }
 },
 "nbformat": 4,
 "nbformat_minor": 5
}
